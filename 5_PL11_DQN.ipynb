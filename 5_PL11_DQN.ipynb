{
  "nbformat": 4,
  "nbformat_minor": 0,
  "metadata": {
    "accelerator": "GPU",
    "colab": {
      "name": "5_PL11_DQN.ipynb",
      "provenance": [],
      "collapsed_sections": []
    },
    "kernelspec": {
      "display_name": "Python 3",
      "name": "python3"
    },
    "language_info": {
      "name": "python"
    }
  },
  "cells": [
    {
      "cell_type": "code",
      "metadata": {
        "id": "7jn9FnQBwxvu"
      },
      "source": [
        "! pip install chainer\n",
        "import numpy as np\n",
        "import pandas as pd\n",
        "import matplotlib.pyplot as plt\n",
        "import seaborn as sns\n",
        "from subprocess import check_output\n",
        "import time\n",
        "import math\n",
        "import random\n",
        "import copy\n",
        "import torch\n",
        "from sklearn.utils import shuffle\n",
        "import chainer\n",
        "import chainer.functions as F\n",
        "import chainer.links as L\n",
        "from plotly import tools\n",
        "from plotly.graph_objs import *\n",
        "from plotly.offline import init_notebook_mode, iplot, iplot_mpl\n",
        "init_notebook_mode(connected=True)"
      ],
      "execution_count": null,
      "outputs": []
    },
    {
      "cell_type": "markdown",
      "metadata": {
        "id": "X_imeB6q1wKq"
      },
      "source": [
        "Dataset"
      ]
    },
    {
      "cell_type": "code",
      "metadata": {
        "colab": {
          "base_uri": "https://localhost:8080/",
          "height": 206
        },
        "id": "5uSgQLS7xCKp",
        "outputId": "089f05e7-2ac9-4d82-a051-6ddebed96ec7"
      },
      "source": [
        "df = pd.read_csv('/content/PL11_data_all_En.csv')\n",
        "df.head()"
      ],
      "execution_count": null,
      "outputs": [
        {
          "output_type": "execute_result",
          "data": {
            "text/html": [
              "<div>\n",
              "<style scoped>\n",
              "    .dataframe tbody tr th:only-of-type {\n",
              "        vertical-align: middle;\n",
              "    }\n",
              "\n",
              "    .dataframe tbody tr th {\n",
              "        vertical-align: top;\n",
              "    }\n",
              "\n",
              "    .dataframe thead th {\n",
              "        text-align: right;\n",
              "    }\n",
              "</style>\n",
              "<table border=\"1\" class=\"dataframe\">\n",
              "  <thead>\n",
              "    <tr style=\"text-align: right;\">\n",
              "      <th></th>\n",
              "      <th>Cycles</th>\n",
              "      <th>Capacity</th>\n",
              "      <th>PerEn3</th>\n",
              "    </tr>\n",
              "  </thead>\n",
              "  <tbody>\n",
              "    <tr>\n",
              "      <th>0</th>\n",
              "      <td>6</td>\n",
              "      <td>1.4393</td>\n",
              "      <td>1.8572</td>\n",
              "    </tr>\n",
              "    <tr>\n",
              "      <th>1</th>\n",
              "      <td>11</td>\n",
              "      <td>1.4360</td>\n",
              "      <td>1.8107</td>\n",
              "    </tr>\n",
              "    <tr>\n",
              "      <th>2</th>\n",
              "      <td>16</td>\n",
              "      <td>1.4335</td>\n",
              "      <td>1.7562</td>\n",
              "    </tr>\n",
              "    <tr>\n",
              "      <th>3</th>\n",
              "      <td>21</td>\n",
              "      <td>1.4314</td>\n",
              "      <td>1.7692</td>\n",
              "    </tr>\n",
              "    <tr>\n",
              "      <th>4</th>\n",
              "      <td>26</td>\n",
              "      <td>1.4282</td>\n",
              "      <td>1.8305</td>\n",
              "    </tr>\n",
              "  </tbody>\n",
              "</table>\n",
              "</div>"
            ],
            "text/plain": [
              "   Cycles  Capacity  PerEn3\n",
              "0       6    1.4393  1.8572\n",
              "1      11    1.4360  1.8107\n",
              "2      16    1.4335  1.7562\n",
              "3      21    1.4314  1.7692\n",
              "4      26    1.4282  1.8305"
            ]
          },
          "metadata": {},
          "execution_count": 2
        }
      ]
    },
    {
      "cell_type": "code",
      "metadata": {
        "colab": {
          "base_uri": "https://localhost:8080/"
        },
        "id": "y_jX89tA-Ot8",
        "outputId": "860724a8-e20c-409d-8a0d-bc2844b9eacc"
      },
      "source": [
        "df.info()"
      ],
      "execution_count": null,
      "outputs": [
        {
          "output_type": "stream",
          "name": "stdout",
          "text": [
            "<class 'pandas.core.frame.DataFrame'>\n",
            "RangeIndex: 133 entries, 0 to 132\n",
            "Data columns (total 3 columns):\n",
            " #   Column    Non-Null Count  Dtype  \n",
            "---  ------    --------------  -----  \n",
            " 0   Cycles    133 non-null    int64  \n",
            " 1   Capacity  133 non-null    float64\n",
            " 2   PerEn3    133 non-null    float64\n",
            "dtypes: float64(2), int64(1)\n",
            "memory usage: 3.2 KB\n"
          ]
        }
      ]
    },
    {
      "cell_type": "code",
      "metadata": {
        "id": "x_H4nmmVEyeB"
      },
      "source": [
        "df.drop({'Cycles'},axis=1,inplace=True)\n",
        "#data = shuffle(df)\n",
        "train = df[:119]\n",
        "test = df[119:]"
      ],
      "execution_count": null,
      "outputs": []
    },
    {
      "cell_type": "markdown",
      "metadata": {
        "id": "Q1RZ0IpK1zKK"
      },
      "source": [
        "Environmet"
      ]
    },
    {
      "cell_type": "code",
      "metadata": {
        "id": "Gyxu3lc8z407",
        "colab": {
          "base_uri": "https://localhost:8080/"
        },
        "outputId": "3f2905b6-0139-4c80-92a1-cb4e4b0e114e"
      },
      "source": [
        "class Environment1:\n",
        "    \n",
        "    def __init__(self, data, history_t=10):\n",
        "        self.data = data\n",
        "        self.history_t = history_t\n",
        "        self.reset()\n",
        "        \n",
        "    def reset(self):\n",
        "        self.t = 0\n",
        "        self.done = False\n",
        "        self.profits = 0\n",
        "        self.positions = []\n",
        "        self.position_value = 0\n",
        "        self.history = [0 for _ in range(self.history_t)]\n",
        "        return [self.position_value] + self.history # obs\n",
        "    \n",
        "    def step(self, act):\n",
        "        reward = 0\n",
        "        \n",
        "        # act:         0: Charge,     1: No Charge\n",
        "        if act == 0:\n",
        "            self.positions.append(self.data.iloc[self.t, :]['Capacity'])\n",
        "        elif act == 1: \n",
        "             profits = 0\n",
        "             for p in self.positions:\n",
        "               profits += (self.data.iloc[self.t, :]['Capacity'] - p)\n",
        "             reward += profits\n",
        "             self.profits += profits\n",
        "             self.positions = []\n",
        "        \n",
        "        # set next time\n",
        "        self.t += 1\n",
        "        self.position_value = 0\n",
        "        for p in self.positions:\n",
        "            self.position_value += (self.data.iloc[self.t, :]['Capacity'] - p)\n",
        "        self.history.pop(0)\n",
        "        self.history.append(self.data.iloc[self.t, :]['Capacity'] - self.data.iloc[(self.t-1), :]['Capacity'])\n",
        "        \n",
        "        # clipping reward\n",
        "        if reward > 0:\n",
        "            reward = 1\n",
        "        elif reward < 0:\n",
        "            reward = -1\n",
        "        \n",
        "        return [self.position_value] + self.history, reward, self.done # obs, reward, done\n",
        "env = Environment1(train)\n",
        "print(env.reset())\n",
        "for _ in range(3):\n",
        "    pact = np.random.randint(2)\n",
        "    print(env.step(pact))"
      ],
      "execution_count": null,
      "outputs": [
        {
          "output_type": "stream",
          "name": "stdout",
          "text": [
            "[0, 0, 0, 0, 0, 0, 0, 0, 0, 0, 0]\n",
            "([0, 0, 0, 0, 0, 0, 0, 0, 0, 0, -0.0033000000000000806], 0, False)\n",
            "([-0.0024999999999999467, 0, 0, 0, 0, 0, 0, 0, 0, -0.0033000000000000806, -0.0024999999999999467], 0, False)\n",
            "([0, 0, 0, 0, 0, 0, 0, 0, -0.0033000000000000806, -0.0024999999999999467, -0.0020999999999999908], -1, False)\n"
          ]
        }
      ]
    },
    {
      "cell_type": "code",
      "metadata": {
        "colab": {
          "base_uri": "https://localhost:8080/"
        },
        "id": "yyXIAQdLMxGh",
        "outputId": "d5b99c2a-e8ae-435e-a819-4096d76af728"
      },
      "source": [
        "class Environment2:\n",
        "    \n",
        "    def __init__(self, newdf,history_t=0):\n",
        "\n",
        "        self.history_t = history_t\n",
        "        self.data = train\n",
        "        self.n_samples = train.shape[0]\n",
        "        self.capacity =  torch.FloatTensor(train['Capacity'].values)\n",
        "        self.states = torch.FloatTensor(train['PerEn3'].values)\n",
        "        self.observation_space = torch.FloatTensor(train['PerEn3'].values) #.reshape(100,1)\n",
        "        self.action_space = torch.FloatTensor(train['Capacity'].values)\n",
        "        self.idx = 0\n",
        "    \n",
        "    def reset(self):\n",
        "        self.idx = 0\n",
        "        return self.states[self.idx].view(1, -1)\n",
        "    \n",
        "    def step(self, action):\n",
        "      \n",
        "        #profits = action/(df.iloc[0]['Capacity'])\n",
        "\n",
        "        if action > 0.9:\n",
        "          #print('Charge')\n",
        "          reward = 1\n",
        "        else:\n",
        "          reward = 0\n",
        "          #print('No Charge')\n",
        "\n",
        "        self.idx += 1\n",
        "\n",
        "        if self.idx >= self.n_samples:\n",
        "            done = True\n",
        "            self.idx = 0\n",
        "        else:\n",
        "            done = False\n",
        "\n",
        "        return self.states[self.idx].view(1, -1), reward, done\n",
        "\n",
        "env = Environment2(train)\n",
        "print(env.reset())\n",
        "for _ in range(3):\n",
        "    pact = np.random.randint(3)\n",
        "    print(env.step(pact))"
      ],
      "execution_count": null,
      "outputs": [
        {
          "output_type": "stream",
          "name": "stdout",
          "text": [
            "tensor([[1.8572]])\n",
            "(tensor([[1.8107]]), 0, False)\n",
            "(tensor([[1.7562]]), 1, False)\n",
            "(tensor([[1.7692]]), 0, False)\n"
          ]
        }
      ]
    },
    {
      "cell_type": "markdown",
      "metadata": {
        "id": "oOChqce412fZ"
      },
      "source": [
        "Model"
      ]
    },
    {
      "cell_type": "code",
      "metadata": {
        "id": "DNTDle0VzpQn"
      },
      "source": [
        "# DQN\n",
        "\n",
        "def train_dqn(env):\n",
        "\n",
        "    class Q_Network(chainer.Chain):\n",
        "\n",
        "        def __init__(self, input_size, hidden_size, output_size):\n",
        "            super(Q_Network, self).__init__(\n",
        "                fc1 = L.Linear(input_size, hidden_size),\n",
        "                fc2 = L.PReLU(hidden_size, hidden_size),\n",
        "                fc3 = L.Linear(hidden_size, hidden_size),\n",
        "                fc4 = L.Linear(hidden_size, output_size)\n",
        "            )\n",
        "\n",
        "        def __call__(self, x):\n",
        "            h = F.relu(self.fc1(x))\n",
        "            h = F.relu(self.fc2(h))\n",
        "            h = F.relu(self.fc3(h))\n",
        "            y = self.fc4(h)\n",
        "            return y\n",
        "\n",
        "        def reset(self):\n",
        "            self.zerograds()\n",
        "\n",
        "    Q = Q_Network(input_size=env.history_t+1, hidden_size=100, output_size=2)\n",
        "    Q_ast = copy.deepcopy(Q)\n",
        "    optimizer = chainer.optimizers.Adam()\n",
        "    optimizer.setup(Q)\n",
        "\n",
        "    epoch_num = 500\n",
        "    step_max = len(env.data)-1\n",
        "    memory_size = 200\n",
        "    batch_size = 20\n",
        "    epsilon = 1.0\n",
        "    epsilon_decrease = 1e-3\n",
        "    epsilon_min = 0.1\n",
        "    start_reduce_epsilon = 200\n",
        "    train_freq = 10\n",
        "    update_q_freq = 20\n",
        "    gamma = 0.97\n",
        "    show_log_freq = 5\n",
        "\n",
        "    memory = []\n",
        "    total_step = 0\n",
        "    total_rewards = []\n",
        "    total_losses = []\n",
        "\n",
        "    start = time.time()\n",
        "    for epoch in range(epoch_num):\n",
        "\n",
        "        pobs = env.reset()\n",
        "        step = 0\n",
        "        done = False\n",
        "        total_reward = 0\n",
        "        total_loss = 0\n",
        "\n",
        "        while not done and step < step_max:\n",
        "\n",
        "            pact = np.random.randint(2)\n",
        "            if np.random.rand() > epsilon:\n",
        "                pact = Q(np.array(pobs, dtype=np.float32).reshape(1, -1))\n",
        "                pact = np.argmax(pact.data)\n",
        "\n",
        "            obs, reward, done = env.step(pact)\n",
        "\n",
        "            memory.append((pobs, pact, reward, obs, done))\n",
        "            if len(memory) > memory_size:\n",
        "                memory.pop(0)\n",
        "\n",
        "            if len(memory) == memory_size:\n",
        "                if total_step % train_freq == 0:\n",
        "                    shuffled_memory = np.random.permutation(memory)\n",
        "                    memory_idx = range(len(shuffled_memory))\n",
        "                    for i in memory_idx[::batch_size]:\n",
        "                        batch = np.array(shuffled_memory[i:i+batch_size])\n",
        "                        b_pobs = np.array(batch[:, 0].tolist(), dtype=np.float32).reshape(batch_size, -1)\n",
        "                        b_pact = np.array(batch[:, 1].tolist(), dtype=np.int32)\n",
        "                        b_reward = np.array(batch[:, 2].tolist(), dtype=np.int32)\n",
        "                        b_obs = np.array(batch[:, 3].tolist(), dtype=np.float32).reshape(batch_size, -1)\n",
        "                        b_done = np.array(batch[:, 4].tolist(), dtype=np.bool)\n",
        "\n",
        "                        q = Q(b_pobs)\n",
        "                        maxq = np.max(Q_ast(b_obs).data, axis=1)\n",
        "                        target = copy.deepcopy(q.data)\n",
        "                        for j in range(batch_size):\n",
        "                            target[j, b_pact[j]] = b_reward[j]+gamma*maxq[j]*(not b_done[j])\n",
        "                        Q.reset()\n",
        "                        loss = F.mean_squared_error(q, target)\n",
        "                        total_loss += loss.data\n",
        "                        loss.backward()\n",
        "                        optimizer.update()\n",
        "\n",
        "                if total_step % update_q_freq == 0:\n",
        "                    Q_ast = copy.deepcopy(Q)\n",
        "\n",
        "            if epsilon > epsilon_min and total_step > start_reduce_epsilon:\n",
        "                epsilon -= epsilon_decrease\n",
        "\n",
        "            total_reward += reward\n",
        "            pobs = obs\n",
        "            step += 1\n",
        "            total_step += 1\n",
        "\n",
        "        total_rewards.append(total_reward)\n",
        "        total_losses.append(total_loss)\n",
        "\n",
        "        if (epoch+1) % show_log_freq == 0:\n",
        "            log_reward = sum(total_rewards[((epoch+1)-show_log_freq):])/show_log_freq\n",
        "            log_loss = sum(total_losses[((epoch+1)-show_log_freq):])/show_log_freq\n",
        "            elapsed_time = time.time()-start\n",
        "            #print('\\t'.join(map(str, [epoch+1, epsilon, total_step, log_reward, log_loss, elapsed_time])))\n",
        "            print('Epoch:{}     step:{}     reward:{}     loss:{}'.format(epoch+1,total_step,log_reward,log_loss))\n",
        "            start = time.time()\n",
        "            \n",
        "    return Q, total_losses, total_rewards, target, q\n",
        "    "
      ],
      "execution_count": null,
      "outputs": []
    },
    {
      "cell_type": "markdown",
      "metadata": {
        "id": "RuWq_eK5XAyL"
      },
      "source": [
        "Training Using Environmet1"
      ]
    },
    {
      "cell_type": "code",
      "metadata": {
        "colab": {
          "base_uri": "https://localhost:8080/"
        },
        "id": "OgEKWxEwzxdg",
        "outputId": "2db112e1-a87e-4756-c70d-7caf18dd54cd"
      },
      "source": [
        "Q, total_losses, total_rewards, target, q = train_dqn(Environment1(train))"
      ],
      "execution_count": null,
      "outputs": [
        {
          "output_type": "stream",
          "name": "stderr",
          "text": [
            "/usr/local/lib/python3.7/dist-packages/numpy/core/_asarray.py:83: VisibleDeprecationWarning:\n",
            "\n",
            "Creating an ndarray from ragged nested sequences (which is a list-or-tuple of lists-or-tuples-or ndarrays with different lengths or shapes) is deprecated. If you meant to do this, you must specify 'dtype=object' when creating the ndarray\n",
            "\n"
          ]
        },
        {
          "output_type": "stream",
          "name": "stdout",
          "text": [
            "Epoch:5     step:590     reward:-16.2     loss:5.366389607568271\n",
            "Epoch:10     step:1180     reward:-6.4     loss:4.66540355256293\n",
            "Epoch:15     step:1770     reward:3.8     loss:26.19359731548466\n",
            "Epoch:20     step:2360     reward:2.2     loss:11.913075429340825\n",
            "Epoch:25     step:2950     reward:4.2     loss:3.8828766620717943\n",
            "Epoch:30     step:3540     reward:2.0     loss:22.479829536471517\n",
            "Epoch:35     step:4130     reward:-0.2     loss:4.7916747809387745\n",
            "Epoch:40     step:4720     reward:2.8     loss:3.722144480701536\n",
            "Epoch:45     step:5310     reward:0.2     loss:4.66328287795186\n",
            "Epoch:50     step:5900     reward:3.4     loss:8.03473462597467\n",
            "Epoch:55     step:6490     reward:2.2     loss:5.637444690288976\n",
            "Epoch:60     step:7080     reward:1.6     loss:9.546416680142283\n",
            "Epoch:65     step:7670     reward:3.2     loss:9.068001930974424\n",
            "Epoch:70     step:8260     reward:0.2     loss:6.182131718751043\n",
            "Epoch:75     step:8850     reward:1.4     loss:6.264493556274101\n",
            "Epoch:80     step:9440     reward:0.6     loss:10.33960920618847\n",
            "Epoch:85     step:10030     reward:2.0     loss:7.042224272945896\n",
            "Epoch:90     step:10620     reward:2.8     loss:6.370854153763503\n",
            "Epoch:95     step:11210     reward:2.0     loss:7.926307235285639\n",
            "Epoch:100     step:11800     reward:1.4     loss:25.527422474743798\n",
            "Epoch:105     step:12390     reward:2.2     loss:8.180204125167801\n",
            "Epoch:110     step:12980     reward:1.8     loss:6.80299546639435\n",
            "Epoch:115     step:13570     reward:1.4     loss:5.164180378522724\n",
            "Epoch:120     step:14160     reward:2.6     loss:7.071173106553033\n",
            "Epoch:125     step:14750     reward:2.8     loss:5.6191466664895415\n",
            "Epoch:130     step:15340     reward:3.2     loss:9.331355442898348\n",
            "Epoch:135     step:15930     reward:0.6     loss:8.057897050026805\n",
            "Epoch:140     step:16520     reward:4.8     loss:8.023199996491893\n",
            "Epoch:145     step:17110     reward:4.0     loss:14.992226095404476\n",
            "Epoch:150     step:17700     reward:0.0     loss:12.46622265893966\n",
            "Epoch:155     step:18290     reward:2.2     loss:7.145655047148466\n",
            "Epoch:160     step:18880     reward:4.0     loss:6.7226712219417095\n",
            "Epoch:165     step:19470     reward:6.6     loss:8.612987544201314\n",
            "Epoch:170     step:20060     reward:4.6     loss:10.65044006127864\n",
            "Epoch:175     step:20650     reward:6.4     loss:10.558988216612487\n",
            "Epoch:180     step:21240     reward:2.2     loss:11.979755930788816\n",
            "Epoch:185     step:21830     reward:6.6     loss:8.171583430841565\n",
            "Epoch:190     step:22420     reward:4.2     loss:7.749703389033675\n",
            "Epoch:195     step:23010     reward:3.4     loss:9.442390744946897\n",
            "Epoch:200     step:23600     reward:2.8     loss:9.708035164885223\n",
            "Epoch:205     step:24190     reward:5.2     loss:9.158367868885398\n",
            "Epoch:210     step:24780     reward:3.2     loss:9.06738537689671\n",
            "Epoch:215     step:25370     reward:3.4     loss:10.283415480144322\n",
            "Epoch:220     step:25960     reward:8.0     loss:8.940752984490246\n",
            "Epoch:225     step:26550     reward:5.4     loss:10.506400904431938\n",
            "Epoch:230     step:27140     reward:6.2     loss:7.621003018133342\n",
            "Epoch:235     step:27730     reward:3.4     loss:9.166931023448706\n",
            "Epoch:240     step:28320     reward:2.2     loss:7.577630341984332\n",
            "Epoch:245     step:28910     reward:7.6     loss:8.741983270552009\n",
            "Epoch:250     step:29500     reward:3.6     loss:9.318327454291284\n",
            "Epoch:255     step:30090     reward:4.8     loss:9.378875828720629\n",
            "Epoch:260     step:30680     reward:4.8     loss:8.985581760760397\n",
            "Epoch:265     step:31270     reward:7.6     loss:9.333673062734306\n",
            "Epoch:270     step:31860     reward:6.6     loss:8.872627421142534\n",
            "Epoch:275     step:32450     reward:5.0     loss:9.60709355827421\n",
            "Epoch:280     step:33040     reward:7.4     loss:8.121628122171387\n",
            "Epoch:285     step:33630     reward:6.6     loss:14.382232558168472\n",
            "Epoch:290     step:34220     reward:7.2     loss:10.636822844669222\n",
            "Epoch:295     step:34810     reward:9.0     loss:10.812156448047608\n",
            "Epoch:300     step:35400     reward:7.6     loss:10.217254224326462\n",
            "Epoch:305     step:35990     reward:6.4     loss:10.46211182102561\n",
            "Epoch:310     step:36580     reward:6.6     loss:11.721299686655403\n",
            "Epoch:315     step:37170     reward:7.2     loss:9.616250558011235\n",
            "Epoch:320     step:37760     reward:8.4     loss:10.892902213148773\n",
            "Epoch:325     step:38350     reward:9.8     loss:10.49115555724129\n",
            "Epoch:330     step:38940     reward:8.8     loss:10.094927839003503\n",
            "Epoch:335     step:39530     reward:9.8     loss:7.995748183503747\n",
            "Epoch:340     step:40120     reward:6.2     loss:11.179608376137912\n",
            "Epoch:345     step:40710     reward:7.4     loss:10.979830355010927\n",
            "Epoch:350     step:41300     reward:9.0     loss:10.359186117351054\n",
            "Epoch:355     step:41890     reward:5.6     loss:8.67697616154328\n",
            "Epoch:360     step:42480     reward:8.6     loss:9.539433361403644\n",
            "Epoch:365     step:43070     reward:7.8     loss:7.619708503503352\n",
            "Epoch:370     step:43660     reward:7.8     loss:8.201897039730103\n",
            "Epoch:375     step:44250     reward:8.8     loss:9.445800875872374\n",
            "Epoch:380     step:44840     reward:7.0     loss:11.359461877122522\n",
            "Epoch:385     step:45430     reward:8.2     loss:8.721029610279947\n",
            "Epoch:390     step:46020     reward:11.0     loss:8.018725924566388\n",
            "Epoch:395     step:46610     reward:10.8     loss:5.691681078355759\n",
            "Epoch:400     step:47200     reward:7.6     loss:10.146898022294044\n",
            "Epoch:405     step:47790     reward:5.4     loss:9.798607395589352\n",
            "Epoch:410     step:48380     reward:9.0     loss:7.082478405721486\n",
            "Epoch:415     step:48970     reward:8.6     loss:7.75948260910809\n",
            "Epoch:420     step:49560     reward:10.2     loss:8.73738216534257\n",
            "Epoch:425     step:50150     reward:8.0     loss:9.532626990415157\n",
            "Epoch:430     step:50740     reward:10.0     loss:7.9748720354400575\n",
            "Epoch:435     step:51330     reward:9.8     loss:9.568828572519124\n",
            "Epoch:440     step:51920     reward:8.6     loss:11.444072263501585\n",
            "Epoch:445     step:52510     reward:8.6     loss:10.056303224992007\n",
            "Epoch:450     step:53100     reward:9.0     loss:9.650159775465728\n",
            "Epoch:455     step:53690     reward:9.2     loss:7.426956047024578\n",
            "Epoch:460     step:54280     reward:11.2     loss:7.7728560720570385\n",
            "Epoch:465     step:54870     reward:8.8     loss:11.656251683831215\n",
            "Epoch:470     step:55460     reward:8.6     loss:8.124541707523168\n",
            "Epoch:475     step:56050     reward:8.6     loss:6.717619900777936\n",
            "Epoch:480     step:56640     reward:9.6     loss:10.38089990876615\n",
            "Epoch:485     step:57230     reward:9.6     loss:7.422658824641258\n",
            "Epoch:490     step:57820     reward:12.2     loss:7.368356692418456\n",
            "Epoch:495     step:58410     reward:10.4     loss:8.373888966999948\n",
            "Epoch:500     step:59000     reward:10.2     loss:7.431380559224635\n"
          ]
        }
      ]
    },
    {
      "cell_type": "code",
      "metadata": {
        "id": "lNoMokj6z8O5"
      },
      "source": [
        "def plot_loss_reward(total_losses, total_rewards):\n",
        "\n",
        "    fig,axes = plt.subplots(nrows=1,ncols=2,figsize = (12,6))\n",
        "    axes[0].plot(total_rewards)\n",
        "    axes[0].set_xlabel('Epoch')\n",
        "    axes[0].set_ylabel('Reward')\n",
        "    #axes[0].set_ylim([-5, np.max([total_rewards,total_losses])+5])\n",
        "    axes[1].plot(total_losses)\n",
        "    axes[1].set_xlabel('Epoch')\n",
        "    axes[1].set_ylabel('Loss')\n",
        "    axes[1].set_ylim([-5, np.max([total_rewards,total_losses])+5])"
      ],
      "execution_count": null,
      "outputs": []
    },
    {
      "cell_type": "code",
      "metadata": {
        "colab": {
          "base_uri": "https://localhost:8080/",
          "height": 390
        },
        "id": "M7uj5CBuRSAo",
        "outputId": "c69bc69d-960f-4117-9786-4a826c379693"
      },
      "source": [
        "plot_loss_reward(total_losses, total_rewards)"
      ],
      "execution_count": null,
      "outputs": [
        {
          "output_type": "display_data",
          "data": {
            "image/png": "[encoded data removed]",
            "text/plain": [
              "<Figure size 864x432 with 2 Axes>"
            ]
          },
          "metadata": {
            "needs_background": "light"
          }
        }
      ]
    },
    {
      "cell_type": "code",
      "metadata": {
        "colab": {
          "base_uri": "https://localhost:8080/"
        },
        "id": "1I1PNTvdMlnO",
        "outputId": "b7bb2245-bb39-4ba1-c2a4-fb469bdd20e7"
      },
      "source": [
        "from sklearn import metrics\n",
        "q = chainer.as_array(q)\n",
        "print('MAE : ' , metrics.mean_absolute_error(target,q))\n",
        "print('MSE : ' , metrics.mean_squared_error(target,q))\n",
        "print('RMSE : ' , np.sqrt(metrics.mean_squared_error(target,q)))"
      ],
      "execution_count": null,
      "outputs": [
        {
          "output_type": "stream",
          "name": "stdout",
          "text": [
            "MAE :  0.13309538\n",
            "MSE :  0.06605913\n",
            "RMSE :  0.2570197\n"
          ]
        }
      ]
    },
    {
      "cell_type": "code",
      "metadata": {
        "colab": {
          "base_uri": "https://localhost:8080/",
          "height": 372
        },
        "id": "eVXaIDYTdbdG",
        "outputId": "dee9cdc3-af53-45c1-f665-53c97e9b2af1"
      },
      "source": [
        "sns.distplot((target-q))\n",
        "plt.xlabel('Differences of observed and predicted capacity')"
      ],
      "execution_count": null,
      "outputs": [
        {
          "output_type": "stream",
          "name": "stderr",
          "text": [
            "/usr/local/lib/python3.7/dist-packages/seaborn/distributions.py:2619: FutureWarning:\n",
            "\n",
            "`distplot` is a deprecated function and will be removed in a future version. Please adapt your code to use either `displot` (a figure-level function with similar flexibility) or `histplot` (an axes-level function for histograms).\n",
            "\n"
          ]
        },
        {
          "output_type": "execute_result",
          "data": {
            "text/plain": [
              "<matplotlib.axes._subplots.AxesSubplot at 0x7fd74ed88750>"
            ]
          },
          "metadata": {},
          "execution_count": 23
        },
        {
          "output_type": "display_data",
          "data": {
            "image/png": "[encoded data removed]",
            "text/plain": [
              "<Figure size 432x288 with 1 Axes>"
            ]
          },
          "metadata": {
            "needs_background": "light"
          }
        }
      ]
    },
    {
      "cell_type": "markdown",
      "metadata": {
        "id": "f82WmYHZWqXG"
      },
      "source": [
        "Training Using Environment2"
      ]
    },
    {
      "cell_type": "code",
      "metadata": {
        "colab": {
          "base_uri": "https://localhost:8080/"
        },
        "id": "EWXbxDjqWoGf",
        "outputId": "2c7ddd68-0ded-4351-c2c6-30da967a9af1"
      },
      "source": [
        "Q, total_losses, total_rewards, target, q = train_dqn(Environment2(train))"
      ],
      "execution_count": null,
      "outputs": [
        {
          "output_type": "stream",
          "name": "stdout",
          "text": [
            "Epoch:5     step:590     reward:64.0     loss:9.073221518099308\n",
            "Epoch:10     step:1180     reward:98.0     loss:24.099143493920565\n",
            "Epoch:15     step:1770     reward:112.8     loss:37.919597290456295\n",
            "Epoch:20     step:2360     reward:114.2     loss:42.2371454924345\n",
            "Epoch:25     step:2950     reward:112.4     loss:40.149739435315134\n",
            "Epoch:30     step:3540     reward:110.4     loss:38.28682329505682\n",
            "Epoch:35     step:4130     reward:112.4     loss:38.177783040702344\n",
            "Epoch:40     step:4720     reward:112.0     loss:36.83026022017002\n",
            "Epoch:45     step:5310     reward:111.4     loss:35.11560510843992\n",
            "Epoch:50     step:5900     reward:111.4     loss:36.11189938187599\n",
            "Epoch:55     step:6490     reward:112.0     loss:34.506193566322324\n",
            "Epoch:60     step:7080     reward:113.8     loss:33.118904762715104\n",
            "Epoch:65     step:7670     reward:110.6     loss:30.63548440039158\n",
            "Epoch:70     step:8260     reward:111.0     loss:28.819895647466183\n",
            "Epoch:75     step:8850     reward:113.0     loss:29.021950779855253\n",
            "Epoch:80     step:9440     reward:112.2     loss:28.69604822844267\n",
            "Epoch:85     step:10030     reward:111.8     loss:25.912953507900237\n",
            "Epoch:90     step:10620     reward:111.6     loss:23.726604233682156\n",
            "Epoch:95     step:11210     reward:111.4     loss:23.749874144792557\n",
            "Epoch:100     step:11800     reward:112.6     loss:22.193817672133445\n",
            "Epoch:105     step:12390     reward:112.6     loss:19.139211571216585\n",
            "Epoch:110     step:12980     reward:111.6     loss:17.741709488630296\n",
            "Epoch:115     step:13570     reward:110.6     loss:17.69913728758693\n",
            "Epoch:120     step:14160     reward:112.0     loss:15.284819739311933\n",
            "Epoch:125     step:14750     reward:113.2     loss:13.386011435464024\n",
            "Epoch:130     step:15340     reward:112.4     loss:11.815591708943249\n",
            "Epoch:135     step:15930     reward:112.2     loss:9.544223495200276\n",
            "Epoch:140     step:16520     reward:113.2     loss:7.525366424024105\n",
            "Epoch:145     step:17110     reward:111.4     loss:5.780575970187783\n",
            "Epoch:150     step:17700     reward:110.0     loss:4.039625206030905\n",
            "Epoch:155     step:18290     reward:112.2     loss:2.89969172924757\n",
            "Epoch:160     step:18880     reward:112.4     loss:1.3759318236727267\n",
            "Epoch:165     step:19470     reward:111.4     loss:0.6712335260584951\n",
            "Epoch:170     step:20060     reward:111.0     loss:0.2866421351558529\n",
            "Epoch:175     step:20650     reward:113.6     loss:0.12720761408563702\n",
            "Epoch:180     step:21240     reward:112.0     loss:0.07844132930949854\n",
            "Epoch:185     step:21830     reward:111.0     loss:0.05049449335169811\n",
            "Epoch:190     step:22420     reward:111.6     loss:0.10272564934384718\n",
            "Epoch:195     step:23010     reward:111.6     loss:0.05129327405751383\n",
            "Epoch:200     step:23600     reward:110.6     loss:0.20165960201786676\n",
            "Epoch:205     step:24190     reward:113.4     loss:0.0008586403148626686\n",
            "Epoch:210     step:24780     reward:112.8     loss:0.029249116473655336\n",
            "Epoch:215     step:25370     reward:111.6     loss:0.17864380860488752\n",
            "Epoch:220     step:25960     reward:112.2     loss:0.0025523124697713227\n",
            "Epoch:225     step:26550     reward:111.6     loss:0.0768646100014223\n",
            "Epoch:230     step:27140     reward:110.8     loss:0.07295272132941193\n",
            "Epoch:235     step:27730     reward:111.8     loss:0.032392429328592695\n",
            "Epoch:240     step:28320     reward:111.4     loss:0.1467819024000505\n",
            "Epoch:245     step:28910     reward:113.0     loss:0.04386004891134334\n",
            "Epoch:250     step:29500     reward:111.4     loss:0.1722076594480484\n",
            "Epoch:255     step:30090     reward:112.6     loss:0.0031162230440571646\n",
            "Epoch:260     step:30680     reward:113.2     loss:0.09988003236227598\n",
            "Epoch:265     step:31270     reward:112.4     loss:0.049873253908676675\n",
            "Epoch:270     step:31860     reward:111.6     loss:0.04739995032865352\n",
            "Epoch:275     step:32450     reward:111.0     loss:0.07172884808614981\n",
            "Epoch:280     step:33040     reward:113.4     loss:0.036387947917978634\n",
            "Epoch:285     step:33630     reward:113.0     loss:0.15829421492255696\n",
            "Epoch:290     step:34220     reward:112.2     loss:0.034615885842976014\n",
            "Epoch:295     step:34810     reward:113.4     loss:0.05929646897591283\n",
            "Epoch:300     step:35400     reward:113.2     loss:0.06100864249868465\n",
            "Epoch:305     step:35990     reward:112.8     loss:0.09349776838436127\n",
            "Epoch:310     step:36580     reward:112.8     loss:0.011400749426928768\n",
            "Epoch:315     step:37170     reward:110.8     loss:0.09710605896344901\n",
            "Epoch:320     step:37760     reward:113.2     loss:0.06683240339056126\n",
            "Epoch:325     step:38350     reward:112.0     loss:0.03052992154263734\n",
            "Epoch:330     step:38940     reward:111.2     loss:0.07610727795805054\n",
            "Epoch:335     step:39530     reward:112.8     loss:0.04869342512652537\n",
            "Epoch:340     step:40120     reward:112.0     loss:0.04243301444461167\n",
            "Epoch:345     step:40710     reward:112.4     loss:0.24451282385684864\n",
            "Epoch:350     step:41300     reward:111.6     loss:0.0022515322187587118\n",
            "Epoch:355     step:41890     reward:111.2     loss:0.005697927297922334\n",
            "Epoch:360     step:42480     reward:110.8     loss:0.15892891628509104\n",
            "Epoch:365     step:43070     reward:111.0     loss:0.023983372503579403\n",
            "Epoch:370     step:43660     reward:112.0     loss:0.06228729451878508\n",
            "Epoch:375     step:44250     reward:112.4     loss:0.06857746760240033\n",
            "Epoch:380     step:44840     reward:112.8     loss:0.026154250248296762\n",
            "Epoch:385     step:45430     reward:111.8     loss:0.07516762858416541\n",
            "Epoch:390     step:46020     reward:111.8     loss:0.06823718665638126\n",
            "Epoch:395     step:46610     reward:111.4     loss:0.023403915492735905\n",
            "Epoch:400     step:47200     reward:113.6     loss:0.06061984119092756\n",
            "Epoch:405     step:47790     reward:112.8     loss:0.173019479352935\n",
            "Epoch:410     step:48380     reward:111.4     loss:0.004419161213309053\n",
            "Epoch:415     step:48970     reward:112.8     loss:0.028149358131740597\n",
            "Epoch:420     step:49560     reward:113.0     loss:0.07081839409594295\n",
            "Epoch:425     step:50150     reward:110.8     loss:0.06459694730495258\n",
            "Epoch:430     step:50740     reward:112.4     loss:0.06934792911453798\n",
            "Epoch:435     step:51330     reward:113.0     loss:0.016216170777611706\n",
            "Epoch:440     step:51920     reward:112.8     loss:0.13011940096781416\n",
            "Epoch:445     step:52510     reward:109.8     loss:0.05929807464096939\n",
            "Epoch:450     step:53100     reward:112.0     loss:0.018755038808109248\n",
            "Epoch:455     step:53690     reward:112.0     loss:0.09401083746800509\n",
            "Epoch:460     step:54280     reward:111.8     loss:0.0767347460598529\n",
            "Epoch:465     step:54870     reward:112.2     loss:0.09510282893262456\n",
            "Epoch:470     step:55460     reward:110.0     loss:0.025326456497872483\n",
            "Epoch:475     step:56050     reward:112.8     loss:0.028282238456305796\n",
            "Epoch:480     step:56640     reward:110.4     loss:0.14143806528222597\n",
            "Epoch:485     step:57230     reward:111.2     loss:0.010551125036398901\n",
            "Epoch:490     step:57820     reward:112.4     loss:0.3127492206188549\n",
            "Epoch:495     step:58410     reward:112.4     loss:0.0003947638282909338\n",
            "Epoch:500     step:59000     reward:110.8     loss:0.0036723409875378367\n"
          ]
        }
      ]
    },
    {
      "cell_type": "code",
      "metadata": {
        "colab": {
          "base_uri": "https://localhost:8080/",
          "height": 388
        },
        "id": "YTNCj6I1WvoG",
        "outputId": "58a3fc3f-2472-48bf-f7e5-11a51957c6b6"
      },
      "source": [
        "plot_loss_reward(total_losses, total_rewards)"
      ],
      "execution_count": null,
      "outputs": [
        {
          "output_type": "display_data",
          "data": {
            "image/png": "[encoded data removed]",
            "text/plain": [
              "<Figure size 864x432 with 2 Axes>"
            ]
          },
          "metadata": {
            "needs_background": "light"
          }
        }
      ]
    },
    {
      "cell_type": "code",
      "metadata": {
        "colab": {
          "base_uri": "https://localhost:8080/"
        },
        "id": "be9rMkoMWxve",
        "outputId": "c05b504b-074a-44ea-c7fb-5811a1fd58db"
      },
      "source": [
        "from sklearn import metrics\n",
        "q = chainer.as_array(q)\n",
        "print('MAE : ' , metrics.mean_absolute_error(target,q))\n",
        "print('MSE : ' , metrics.mean_squared_error(target,q))\n",
        "print('RMSE : ' , np.sqrt(metrics.mean_squared_error(target,q)))"
      ],
      "execution_count": null,
      "outputs": [
        {
          "output_type": "stream",
          "name": "stdout",
          "text": [
            "MAE :  0.020606328\n",
            "MSE :  0.000849782\n",
            "RMSE :  0.02915102\n"
          ]
        }
      ]
    },
    {
      "cell_type": "code",
      "metadata": {
        "colab": {
          "base_uri": "https://localhost:8080/"
        },
        "id": "-yd0aShKmL78",
        "outputId": "d5ddc94c-e330-4e35-d228-1e8f4e122e08"
      },
      "source": [
        "q"
      ],
      "execution_count": null,
      "outputs": [
        {
          "output_type": "execute_result",
          "data": {
            "text/plain": [
              "array([[32.35797 , 33.356865],\n",
              "       [32.35735 , 33.358788],\n",
              "       [32.35765 , 33.35786 ],\n",
              "       [32.357826, 33.357323],\n",
              "       [32.358013, 33.35675 ],\n",
              "       [32.357876, 33.35718 ],\n",
              "       [32.358383, 33.355602],\n",
              "       [32.3575  , 33.358315],\n",
              "       [32.357616, 33.357964],\n",
              "       [32.357616, 33.357964],\n",
              "       [32.357082, 33.359596],\n",
              "       [32.35673 , 33.36069 ],\n",
              "       [32.35684 , 33.360367],\n",
              "       [32.35708 , 33.359623],\n",
              "       [32.358074, 33.356533],\n",
              "       [32.35816 , 33.35628 ],\n",
              "       [32.357872, 33.357178],\n",
              "       [32.35709 , 33.359585],\n",
              "       [32.35802 , 33.356716],\n",
              "       [32.357018, 33.359814]], dtype=float32)"
            ]
          },
          "metadata": {},
          "execution_count": 16
        }
      ]
    },
    {
      "cell_type": "code",
      "metadata": {
        "id": "6h0-Nf1ei3CH",
        "colab": {
          "base_uri": "https://localhost:8080/"
        },
        "outputId": "9c9c2a13-1f3a-4630-e9f3-ca9e8b0a150c"
      },
      "source": [
        "target"
      ],
      "execution_count": null,
      "outputs": [
        {
          "output_type": "execute_result",
          "data": {
            "text/plain": [
              "array([[32.35797 , 33.31662 ],\n",
              "       [32.316536, 33.358788],\n",
              "       [32.35765 , 33.31664 ],\n",
              "       [32.357826, 33.316   ],\n",
              "       [32.358013, 33.316074],\n",
              "       [32.357876, 33.31684 ],\n",
              "       [32.358383, 33.31599 ],\n",
              "       [32.3575  , 33.316685],\n",
              "       [32.357616, 33.31699 ],\n",
              "       [32.357616, 33.31699 ],\n",
              "       [32.357082, 33.316734],\n",
              "       [32.35673 , 33.317238],\n",
              "       [32.35684 , 33.317528],\n",
              "       [32.35708 , 33.317635],\n",
              "       [32.358074, 33.31664 ],\n",
              "       [32.35816 , 33.316105],\n",
              "       [32.357872, 33.31684 ],\n",
              "       [32.35709 , 33.317772],\n",
              "       [32.35802 , 33.316032],\n",
              "       [32.357018, 33.317413]], dtype=float32)"
            ]
          },
          "metadata": {},
          "execution_count": 17
        }
      ]
    },
    {
      "cell_type": "code",
      "metadata": {
        "colab": {
          "base_uri": "https://localhost:8080/",
          "height": 386
        },
        "id": "ksxYyE9vW0O-",
        "outputId": "d68d9930-7164-4435-92fe-5d58dbb65045"
      },
      "source": [
        "sns.distplot((target-q))\n",
        "plt.xlabel('Differences of observed and predicted capacity')"
      ],
      "execution_count": null,
      "outputs": [
        {
          "output_type": "stream",
          "name": "stderr",
          "text": [
            "/usr/local/lib/python3.7/dist-packages/seaborn/distributions.py:2619: FutureWarning:\n",
            "\n",
            "`distplot` is a deprecated function and will be removed in a future version. Please adapt your code to use either `displot` (a figure-level function with similar flexibility) or `histplot` (an axes-level function for histograms).\n",
            "\n"
          ]
        },
        {
          "output_type": "execute_result",
          "data": {
            "text/plain": [
              "Text(0.5, 0, 'Differences of observed and predicted capacity')"
            ]
          },
          "metadata": {},
          "execution_count": 19
        },
        {
          "output_type": "display_data",
          "data": {
            "image/png": "[encoded data removed]",
            "text/plain": [
              "<Figure size 432x288 with 1 Axes>"
            ]
          },
          "metadata": {
            "needs_background": "light"
          }
        }
      ]
    },
    {
      "cell_type": "code",
      "metadata": {
        "id": "rv68rl_lqZ4s"
      },
      "source": [
        "def plot_train_test_by_q(train_env, test_env, Q, algorithm_name):\n",
        "    date_split = 100\n",
        "    # train\n",
        "    pobs = train_env.reset()\n",
        "    train_acts = []\n",
        "    train_rewards = []\n",
        "\n",
        "    for _ in range(len(train_env.data)-1):\n",
        "        \n",
        "        pact = Q(np.array(pobs, dtype=np.float32).reshape(1, -1))\n",
        "        pact = np.argmax(pact.data)\n",
        "        train_acts.append(pact)\n",
        "            \n",
        "        obs, reward, done = train_env.step(pact)\n",
        "        train_rewards.append(reward)\n",
        "\n",
        "        pobs = obs\n",
        "        \n",
        "    train_profits = train_env.profits\n",
        "    \n",
        "    # test\n",
        "    pobs = test_env.reset()\n",
        "    test_acts = []\n",
        "    test_rewards = []\n",
        "\n",
        "    for _ in range(len(test_env.data)-1):\n",
        "    \n",
        "        pact = Q(np.array(pobs, dtype=np.float32).reshape(1, -1))\n",
        "        pact = np.argmax(pact.data)\n",
        "        test_acts.append(pact)\n",
        "            \n",
        "        obs, reward, done = test_env.step(pact)\n",
        "        test_rewards.append(reward)\n",
        "\n",
        "        pobs = obs\n",
        "        \n",
        "    test_profits = test_env.profits\n",
        "    \n",
        "    # plot\n",
        "    train_copy = train_env.data.copy()\n",
        "    test_copy = test_env.data.copy()\n",
        "    train_copy['act'] = train_acts + [np.nan]\n",
        "    train_copy['reward'] = train_rewards + [np.nan]\n",
        "    test_copy['act'] = test_acts + [np.nan]\n",
        "    test_copy['reward'] = test_rewards + [np.nan]\n",
        "    train0 = train_copy[train_copy['act'] == 0]\n",
        "    train1 = train_copy[train_copy['act'] == 1]\n",
        "    test0 = test_copy[test_copy['act'] == 0]\n",
        "    test1 = test_copy[test_copy['act'] == 1]\n",
        "    act_color0, act_color1 = 'magenta', 'cyan'\n",
        "\n",
        "    data = [\n",
        "        Candlestick(x=train0.index,  open=train0['Capacity'], high=train0['Capacity'], low=train0['Capacity'], close=train0['Capacity'], increasing=dict(line=dict(color=act_color0)), decreasing=dict(line=dict(color=act_color0))),\n",
        "        Candlestick(x=train1.index,  open=train1['Capacity'], high=train1['Capacity'], low=train1['Capacity'], close=train1['Capacity'], increasing=dict(line=dict(color=act_color1)), decreasing=dict(line=dict(color=act_color1))),\n",
        "        Candlestick(x=test0.index,   open=test0['Capacity'], high=test0['Capacity'], low=test0['Capacity'], close=test0['Capacity'], increasing=dict(line=dict(color=act_color0)), decreasing=dict(line=dict(color=act_color0))),\n",
        "        Candlestick(x=test1.index,   open=test1['Capacity'], high=test1['Capacity'], low=test1['Capacity'], close=test1['Capacity'], increasing=dict(line=dict(color=act_color1)), decreasing=dict(line=dict(color=act_color1)))\n",
        "    ]\n",
        "    title = '{}: train s-reward {}, profits {}, test s-reward {}, profits {}'.format(\n",
        "        algorithm_name,\n",
        "        int(sum(train_rewards)),\n",
        "        int(train_profits),\n",
        "        int(sum(test_rewards)),\n",
        "        int(test_profits)\n",
        "    )\n",
        "    layout = {\n",
        "        'title': title,\n",
        "        'showlegend': True,\n",
        "         'shapes': [\n",
        "             {'x0': date_split, 'x1': date_split, 'y0': 0, 'y1': 1, 'xref': 'x', 'yref': 'paper', 'line': {'color': 'rgb(0,0,0)', 'width': 1}}\n",
        "         ],\n",
        "        'annotations': [\n",
        "            {'x': date_split, 'y': 1.0, 'xref': 'x', 'yref': 'paper', 'showarrow': False, 'xanchor': 'left', 'text': ' test data'},\n",
        "            {'x': date_split, 'y': 1.0, 'xref': 'x', 'yref': 'paper', 'showarrow': False, 'xanchor': 'right', 'text': 'train data '}\n",
        "        ]\n",
        "    }\n",
        "    figure = Figure(data=data, layout=layout)\n",
        "    iplot(figure)\n",
        "    return train0, train1, test0, test1"
      ],
      "execution_count": null,
      "outputs": []
    },
    {
      "cell_type": "code",
      "metadata": {
        "colab": {
          "base_uri": "https://localhost:8080/",
          "height": 542
        },
        "id": "cvpyUjWzOqLf",
        "outputId": "729c9fee-37d2-41c8-c29d-20e08b450364"
      },
      "source": [
        "train0, train1, test0, test1 = plot_train_test_by_q(Environment1(train), Environment1(test), Q, 'DQN')"
      ],
      "execution_count": null,
      "outputs": [
        {
          "output_type": "display_data",
          "data": {
            "text/html": [
              "<div>\n",
              "        \n",
              "        \n",
              "            <div id=\"a224de95-d6ef-4eda-91c3-605a53884638\" class=\"plotly-graph-div\" style=\"height:525px; width:100%;\"></div>\n",
              "            <script type=\"text/javascript\">\n",
              "                require([\"plotly\"], function(Plotly) {\n",
              "                    window.PLOTLYENV=window.PLOTLYENV || {};\n",
              "                    \n",
              "                if (document.getElementById(\"a224de95-d6ef-4eda-91c3-605a53884638\")) {\n",
              "                    Plotly.newPlot(\n",
              "                        'a224de95-d6ef-4eda-91c3-605a53884638',\n",
              "                        [{\"close\": [1.4335, 1.4314, 1.4282, 1.425, 1.4234, 1.4218, 1.42, 1.4180000000000001, 1.4166, 1.4152, 1.4127, 1.4108, 1.4098, 1.4094, 1.4079, 1.4069, 1.4061, 1.4022, 1.4018, 1.4004, 1.3989, 1.3982, 1.3973, 1.3971, 1.3953, 1.3937, 1.3931, 1.392, 1.3903, 1.3896, 1.3885, 1.3869, 1.3857, 1.3832, 1.3837, 1.3825, 1.3803, 1.3798, 1.3785, 1.3781, 1.3763, 1.3757, 1.3743, 1.3726, 1.3716, 1.3711, 1.3691, 1.3697, 1.3757, 1.3754, 1.3727, 1.3718, 1.3707, 1.3701, 1.3723, 1.3579, 1.3634, 1.3634, 1.3641, 1.3639, 1.3636, 1.3628, 1.3622, 1.3619, 1.3624, 1.3616, 1.3616, 1.3621, 1.3588, 1.3597, 1.3598, 1.3599, 1.3687, 1.3549, 1.3458, 1.3464, 1.3454, 1.3451, 1.345, 1.3561, 1.3454, 1.3409, 1.3528, 1.354, 1.3557, 1.3406, 1.3424, 1.3344, 1.3254, 1.33, 1.3465, 1.3546, 1.3092, 1.2907, 1.2936, 1.2947, 1.2944, 1.2972, 1.2944, 1.2941, 1.2951, 1.2937, 1.2935, 1.2893, 1.2781, 1.2767, 1.2763, 1.2728, 1.2713, 1.271, 1.2691, 1.2658, 1.2618, 1.258, 1.2563, 1.2555], \"decreasing\": {\"line\": {\"color\": \"magenta\"}}, \"high\": [1.4335, 1.4314, 1.4282, 1.425, 1.4234, 1.4218, 1.42, 1.4180000000000001, 1.4166, 1.4152, 1.4127, 1.4108, 1.4098, 1.4094, 1.4079, 1.4069, 1.4061, 1.4022, 1.4018, 1.4004, 1.3989, 1.3982, 1.3973, 1.3971, 1.3953, 1.3937, 1.3931, 1.392, 1.3903, 1.3896, 1.3885, 1.3869, 1.3857, 1.3832, 1.3837, 1.3825, 1.3803, 1.3798, 1.3785, 1.3781, 1.3763, 1.3757, 1.3743, 1.3726, 1.3716, 1.3711, 1.3691, 1.3697, 1.3757, 1.3754, 1.3727, 1.3718, 1.3707, 1.3701, 1.3723, 1.3579, 1.3634, 1.3634, 1.3641, 1.3639, 1.3636, 1.3628, 1.3622, 1.3619, 1.3624, 1.3616, 1.3616, 1.3621, 1.3588, 1.3597, 1.3598, 1.3599, 1.3687, 1.3549, 1.3458, 1.3464, 1.3454, 1.3451, 1.345, 1.3561, 1.3454, 1.3409, 1.3528, 1.354, 1.3557, 1.3406, 1.3424, 1.3344, 1.3254, 1.33, 1.3465, 1.3546, 1.3092, 1.2907, 1.2936, 1.2947, 1.2944, 1.2972, 1.2944, 1.2941, 1.2951, 1.2937, 1.2935, 1.2893, 1.2781, 1.2767, 1.2763, 1.2728, 1.2713, 1.271, 1.2691, 1.2658, 1.2618, 1.258, 1.2563, 1.2555], \"increasing\": {\"line\": {\"color\": \"magenta\"}}, \"low\": [1.4335, 1.4314, 1.4282, 1.425, 1.4234, 1.4218, 1.42, 1.4180000000000001, 1.4166, 1.4152, 1.4127, 1.4108, 1.4098, 1.4094, 1.4079, 1.4069, 1.4061, 1.4022, 1.4018, 1.4004, 1.3989, 1.3982, 1.3973, 1.3971, 1.3953, 1.3937, 1.3931, 1.392, 1.3903, 1.3896, 1.3885, 1.3869, 1.3857, 1.3832, 1.3837, 1.3825, 1.3803, 1.3798, 1.3785, 1.3781, 1.3763, 1.3757, 1.3743, 1.3726, 1.3716, 1.3711, 1.3691, 1.3697, 1.3757, 1.3754, 1.3727, 1.3718, 1.3707, 1.3701, 1.3723, 1.3579, 1.3634, 1.3634, 1.3641, 1.3639, 1.3636, 1.3628, 1.3622, 1.3619, 1.3624, 1.3616, 1.3616, 1.3621, 1.3588, 1.3597, 1.3598, 1.3599, 1.3687, 1.3549, 1.3458, 1.3464, 1.3454, 1.3451, 1.345, 1.3561, 1.3454, 1.3409, 1.3528, 1.354, 1.3557, 1.3406, 1.3424, 1.3344, 1.3254, 1.33, 1.3465, 1.3546, 1.3092, 1.2907, 1.2936, 1.2947, 1.2944, 1.2972, 1.2944, 1.2941, 1.2951, 1.2937, 1.2935, 1.2893, 1.2781, 1.2767, 1.2763, 1.2728, 1.2713, 1.271, 1.2691, 1.2658, 1.2618, 1.258, 1.2563, 1.2555], \"open\": [1.4335, 1.4314, 1.4282, 1.425, 1.4234, 1.4218, 1.42, 1.4180000000000001, 1.4166, 1.4152, 1.4127, 1.4108, 1.4098, 1.4094, 1.4079, 1.4069, 1.4061, 1.4022, 1.4018, 1.4004, 1.3989, 1.3982, 1.3973, 1.3971, 1.3953, 1.3937, 1.3931, 1.392, 1.3903, 1.3896, 1.3885, 1.3869, 1.3857, 1.3832, 1.3837, 1.3825, 1.3803, 1.3798, 1.3785, 1.3781, 1.3763, 1.3757, 1.3743, 1.3726, 1.3716, 1.3711, 1.3691, 1.3697, 1.3757, 1.3754, 1.3727, 1.3718, 1.3707, 1.3701, 1.3723, 1.3579, 1.3634, 1.3634, 1.3641, 1.3639, 1.3636, 1.3628, 1.3622, 1.3619, 1.3624, 1.3616, 1.3616, 1.3621, 1.3588, 1.3597, 1.3598, 1.3599, 1.3687, 1.3549, 1.3458, 1.3464, 1.3454, 1.3451, 1.345, 1.3561, 1.3454, 1.3409, 1.3528, 1.354, 1.3557, 1.3406, 1.3424, 1.3344, 1.3254, 1.33, 1.3465, 1.3546, 1.3092, 1.2907, 1.2936, 1.2947, 1.2944, 1.2972, 1.2944, 1.2941, 1.2951, 1.2937, 1.2935, 1.2893, 1.2781, 1.2767, 1.2763, 1.2728, 1.2713, 1.271, 1.2691, 1.2658, 1.2618, 1.258, 1.2563, 1.2555], \"type\": \"candlestick\", \"x\": [2, 3, 4, 5, 6, 7, 8, 9, 10, 11, 12, 13, 14, 15, 16, 17, 18, 19, 20, 21, 22, 23, 24, 25, 26, 27, 28, 29, 30, 31, 32, 33, 34, 35, 36, 37, 38, 39, 40, 41, 42, 43, 44, 45, 46, 47, 48, 49, 50, 51, 52, 53, 54, 55, 56, 57, 58, 59, 60, 61, 62, 63, 64, 65, 66, 67, 68, 69, 70, 71, 72, 73, 74, 75, 76, 77, 78, 79, 80, 81, 82, 83, 84, 85, 86, 87, 88, 89, 90, 91, 92, 93, 94, 95, 96, 97, 98, 99, 100, 101, 102, 103, 104, 105, 106, 107, 108, 109, 110, 111, 112, 113, 114, 115, 116, 117]}, {\"close\": [1.4393, 1.436], \"decreasing\": {\"line\": {\"color\": \"cyan\"}}, \"high\": [1.4393, 1.436], \"increasing\": {\"line\": {\"color\": \"cyan\"}}, \"low\": [1.4393, 1.436], \"open\": [1.4393, 1.436], \"type\": \"candlestick\", \"x\": [0, 1]}, {\"close\": [1.2414, 1.2399, 1.2355, 1.2303, 1.2284], \"decreasing\": {\"line\": {\"color\": \"magenta\"}}, \"high\": [1.2414, 1.2399, 1.2355, 1.2303, 1.2284], \"increasing\": {\"line\": {\"color\": \"magenta\"}}, \"low\": [1.2414, 1.2399, 1.2355, 1.2303, 1.2284], \"open\": [1.2414, 1.2399, 1.2355, 1.2303, 1.2284], \"type\": \"candlestick\", \"x\": [127, 128, 129, 130, 131]}, {\"close\": [1.252, 1.2474, 1.2468, 1.2502, 1.2529, 1.2476, 1.2463, 1.2434], \"decreasing\": {\"line\": {\"color\": \"cyan\"}}, \"high\": [1.252, 1.2474, 1.2468, 1.2502, 1.2529, 1.2476, 1.2463, 1.2434], \"increasing\": {\"line\": {\"color\": \"cyan\"}}, \"low\": [1.252, 1.2474, 1.2468, 1.2502, 1.2529, 1.2476, 1.2463, 1.2434], \"open\": [1.252, 1.2474, 1.2468, 1.2502, 1.2529, 1.2476, 1.2463, 1.2434], \"type\": \"candlestick\", \"x\": [119, 120, 121, 122, 123, 124, 125, 126]}],\n",
              "                        {\"annotations\": [{\"showarrow\": false, \"text\": \" test data\", \"x\": 100, \"xanchor\": \"left\", \"xref\": \"x\", \"y\": 1.0, \"yref\": \"paper\"}, {\"showarrow\": false, \"text\": \"train data \", \"x\": 100, \"xanchor\": \"right\", \"xref\": \"x\", \"y\": 1.0, \"yref\": \"paper\"}], \"shapes\": [{\"line\": {\"color\": \"rgb(0,0,0)\", \"width\": 1}, \"x0\": 100, \"x1\": 100, \"xref\": \"x\", \"y0\": 0, \"y1\": 1, \"yref\": \"paper\"}], \"showlegend\": true, \"template\": {\"data\": {\"bar\": [{\"error_x\": {\"color\": \"#2a3f5f\"}, \"error_y\": {\"color\": \"#2a3f5f\"}, \"marker\": {\"line\": {\"color\": \"#E5ECF6\", \"width\": 0.5}}, \"type\": \"bar\"}], \"barpolar\": [{\"marker\": {\"line\": {\"color\": \"#E5ECF6\", \"width\": 0.5}}, \"type\": \"barpolar\"}], \"carpet\": [{\"aaxis\": {\"endlinecolor\": \"#2a3f5f\", \"gridcolor\": \"white\", \"linecolor\": \"white\", \"minorgridcolor\": \"white\", \"startlinecolor\": \"#2a3f5f\"}, \"baxis\": {\"endlinecolor\": \"#2a3f5f\", \"gridcolor\": \"white\", \"linecolor\": \"white\", \"minorgridcolor\": \"white\", \"startlinecolor\": \"#2a3f5f\"}, \"type\": \"carpet\"}], \"choropleth\": [{\"colorbar\": {\"outlinewidth\": 0, \"ticks\": \"\"}, \"type\": \"choropleth\"}], \"contour\": [{\"colorbar\": {\"outlinewidth\": 0, \"ticks\": \"\"}, \"colorscale\": [[0.0, \"#0d0887\"], [0.1111111111111111, \"#46039f\"], [0.2222222222222222, \"#7201a8\"], [0.3333333333333333, \"#9c179e\"], [0.4444444444444444, \"#bd3786\"], [0.5555555555555556, \"#d8576b\"], [0.6666666666666666, \"#ed7953\"], [0.7777777777777778, \"#fb9f3a\"], [0.8888888888888888, \"#fdca26\"], [1.0, \"#f0f921\"]], \"type\": \"contour\"}], \"contourcarpet\": [{\"colorbar\": {\"outlinewidth\": 0, \"ticks\": \"\"}, \"type\": \"contourcarpet\"}], \"heatmap\": [{\"colorbar\": {\"outlinewidth\": 0, \"ticks\": \"\"}, \"colorscale\": [[0.0, \"#0d0887\"], [0.1111111111111111, \"#46039f\"], [0.2222222222222222, \"#7201a8\"], [0.3333333333333333, \"#9c179e\"], [0.4444444444444444, \"#bd3786\"], [0.5555555555555556, \"#d8576b\"], [0.6666666666666666, \"#ed7953\"], [0.7777777777777778, \"#fb9f3a\"], [0.8888888888888888, \"#fdca26\"], [1.0, \"#f0f921\"]], \"type\": \"heatmap\"}], \"heatmapgl\": [{\"colorbar\": {\"outlinewidth\": 0, \"ticks\": \"\"}, \"colorscale\": [[0.0, \"#0d0887\"], [0.1111111111111111, \"#46039f\"], [0.2222222222222222, \"#7201a8\"], [0.3333333333333333, \"#9c179e\"], [0.4444444444444444, \"#bd3786\"], [0.5555555555555556, \"#d8576b\"], [0.6666666666666666, \"#ed7953\"], [0.7777777777777778, \"#fb9f3a\"], [0.8888888888888888, \"#fdca26\"], [1.0, \"#f0f921\"]], \"type\": \"heatmapgl\"}], \"histogram\": [{\"marker\": {\"colorbar\": {\"outlinewidth\": 0, \"ticks\": \"\"}}, \"type\": \"histogram\"}], \"histogram2d\": [{\"colorbar\": {\"outlinewidth\": 0, \"ticks\": \"\"}, \"colorscale\": [[0.0, \"#0d0887\"], [0.1111111111111111, \"#46039f\"], [0.2222222222222222, \"#7201a8\"], [0.3333333333333333, \"#9c179e\"], [0.4444444444444444, \"#bd3786\"], [0.5555555555555556, \"#d8576b\"], [0.6666666666666666, \"#ed7953\"], [0.7777777777777778, \"#fb9f3a\"], [0.8888888888888888, \"#fdca26\"], [1.0, \"#f0f921\"]], \"type\": \"histogram2d\"}], \"histogram2dcontour\": [{\"colorbar\": {\"outlinewidth\": 0, \"ticks\": \"\"}, \"colorscale\": [[0.0, \"#0d0887\"], [0.1111111111111111, \"#46039f\"], [0.2222222222222222, \"#7201a8\"], [0.3333333333333333, \"#9c179e\"], [0.4444444444444444, \"#bd3786\"], [0.5555555555555556, \"#d8576b\"], [0.6666666666666666, \"#ed7953\"], [0.7777777777777778, \"#fb9f3a\"], [0.8888888888888888, \"#fdca26\"], [1.0, \"#f0f921\"]], \"type\": \"histogram2dcontour\"}], \"mesh3d\": [{\"colorbar\": {\"outlinewidth\": 0, \"ticks\": \"\"}, \"type\": \"mesh3d\"}], \"parcoords\": [{\"line\": {\"colorbar\": {\"outlinewidth\": 0, \"ticks\": \"\"}}, \"type\": \"parcoords\"}], \"pie\": [{\"automargin\": true, \"type\": \"pie\"}], \"scatter\": [{\"marker\": {\"colorbar\": {\"outlinewidth\": 0, \"ticks\": \"\"}}, \"type\": \"scatter\"}], \"scatter3d\": [{\"line\": {\"colorbar\": {\"outlinewidth\": 0, \"ticks\": \"\"}}, \"marker\": {\"colorbar\": {\"outlinewidth\": 0, \"ticks\": \"\"}}, \"type\": \"scatter3d\"}], \"scattercarpet\": [{\"marker\": {\"colorbar\": {\"outlinewidth\": 0, \"ticks\": \"\"}}, \"type\": \"scattercarpet\"}], \"scattergeo\": [{\"marker\": {\"colorbar\": {\"outlinewidth\": 0, \"ticks\": \"\"}}, \"type\": \"scattergeo\"}], \"scattergl\": [{\"marker\": {\"colorbar\": {\"outlinewidth\": 0, \"ticks\": \"\"}}, \"type\": \"scattergl\"}], \"scattermapbox\": [{\"marker\": {\"colorbar\": {\"outlinewidth\": 0, \"ticks\": \"\"}}, \"type\": \"scattermapbox\"}], \"scatterpolar\": [{\"marker\": {\"colorbar\": {\"outlinewidth\": 0, \"ticks\": \"\"}}, \"type\": \"scatterpolar\"}], \"scatterpolargl\": [{\"marker\": {\"colorbar\": {\"outlinewidth\": 0, \"ticks\": \"\"}}, \"type\": \"scatterpolargl\"}], \"scatterternary\": [{\"marker\": {\"colorbar\": {\"outlinewidth\": 0, \"ticks\": \"\"}}, \"type\": \"scatterternary\"}], \"surface\": [{\"colorbar\": {\"outlinewidth\": 0, \"ticks\": \"\"}, \"colorscale\": [[0.0, \"#0d0887\"], [0.1111111111111111, \"#46039f\"], [0.2222222222222222, \"#7201a8\"], [0.3333333333333333, \"#9c179e\"], [0.4444444444444444, \"#bd3786\"], [0.5555555555555556, \"#d8576b\"], [0.6666666666666666, \"#ed7953\"], [0.7777777777777778, \"#fb9f3a\"], [0.8888888888888888, \"#fdca26\"], [1.0, \"#f0f921\"]], \"type\": \"surface\"}], \"table\": [{\"cells\": {\"fill\": {\"color\": \"#EBF0F8\"}, \"line\": {\"color\": \"white\"}}, \"header\": {\"fill\": {\"color\": \"#C8D4E3\"}, \"line\": {\"color\": \"white\"}}, \"type\": \"table\"}]}, \"layout\": {\"annotationdefaults\": {\"arrowcolor\": \"#2a3f5f\", \"arrowhead\": 0, \"arrowwidth\": 1}, \"coloraxis\": {\"colorbar\": {\"outlinewidth\": 0, \"ticks\": \"\"}}, \"colorscale\": {\"diverging\": [[0, \"#8e0152\"], [0.1, \"#c51b7d\"], [0.2, \"#de77ae\"], [0.3, \"#f1b6da\"], [0.4, \"#fde0ef\"], [0.5, \"#f7f7f7\"], [0.6, \"#e6f5d0\"], [0.7, \"#b8e186\"], [0.8, \"#7fbc41\"], [0.9, \"#4d9221\"], [1, \"#276419\"]], \"sequential\": [[0.0, \"#0d0887\"], [0.1111111111111111, \"#46039f\"], [0.2222222222222222, \"#7201a8\"], [0.3333333333333333, \"#9c179e\"], [0.4444444444444444, \"#bd3786\"], [0.5555555555555556, \"#d8576b\"], [0.6666666666666666, \"#ed7953\"], [0.7777777777777778, \"#fb9f3a\"], [0.8888888888888888, \"#fdca26\"], [1.0, \"#f0f921\"]], \"sequentialminus\": [[0.0, \"#0d0887\"], [0.1111111111111111, \"#46039f\"], [0.2222222222222222, \"#7201a8\"], [0.3333333333333333, \"#9c179e\"], [0.4444444444444444, \"#bd3786\"], [0.5555555555555556, \"#d8576b\"], [0.6666666666666666, \"#ed7953\"], [0.7777777777777778, \"#fb9f3a\"], [0.8888888888888888, \"#fdca26\"], [1.0, \"#f0f921\"]]}, \"colorway\": [\"#636efa\", \"#EF553B\", \"#00cc96\", \"#ab63fa\", \"#FFA15A\", \"#19d3f3\", \"#FF6692\", \"#B6E880\", \"#FF97FF\", \"#FECB52\"], \"font\": {\"color\": \"#2a3f5f\"}, \"geo\": {\"bgcolor\": \"white\", \"lakecolor\": \"white\", \"landcolor\": \"#E5ECF6\", \"showlakes\": true, \"showland\": true, \"subunitcolor\": \"white\"}, \"hoverlabel\": {\"align\": \"left\"}, \"hovermode\": \"closest\", \"mapbox\": {\"style\": \"light\"}, \"paper_bgcolor\": \"white\", \"plot_bgcolor\": \"#E5ECF6\", \"polar\": {\"angularaxis\": {\"gridcolor\": \"white\", \"linecolor\": \"white\", \"ticks\": \"\"}, \"bgcolor\": \"#E5ECF6\", \"radialaxis\": {\"gridcolor\": \"white\", \"linecolor\": \"white\", \"ticks\": \"\"}}, \"scene\": {\"xaxis\": {\"backgroundcolor\": \"#E5ECF6\", \"gridcolor\": \"white\", \"gridwidth\": 2, \"linecolor\": \"white\", \"showbackground\": true, \"ticks\": \"\", \"zerolinecolor\": \"white\"}, \"yaxis\": {\"backgroundcolor\": \"#E5ECF6\", \"gridcolor\": \"white\", \"gridwidth\": 2, \"linecolor\": \"white\", \"showbackground\": true, \"ticks\": \"\", \"zerolinecolor\": \"white\"}, \"zaxis\": {\"backgroundcolor\": \"#E5ECF6\", \"gridcolor\": \"white\", \"gridwidth\": 2, \"linecolor\": \"white\", \"showbackground\": true, \"ticks\": \"\", \"zerolinecolor\": \"white\"}}, \"shapedefaults\": {\"line\": {\"color\": \"#2a3f5f\"}}, \"ternary\": {\"aaxis\": {\"gridcolor\": \"white\", \"linecolor\": \"white\", \"ticks\": \"\"}, \"baxis\": {\"gridcolor\": \"white\", \"linecolor\": \"white\", \"ticks\": \"\"}, \"bgcolor\": \"#E5ECF6\", \"caxis\": {\"gridcolor\": \"white\", \"linecolor\": \"white\", \"ticks\": \"\"}}, \"title\": {\"x\": 0.05}, \"xaxis\": {\"automargin\": true, \"gridcolor\": \"white\", \"linecolor\": \"white\", \"ticks\": \"\", \"title\": {\"standoff\": 15}, \"zerolinecolor\": \"white\", \"zerolinewidth\": 2}, \"yaxis\": {\"automargin\": true, \"gridcolor\": \"white\", \"linecolor\": \"white\", \"ticks\": \"\", \"title\": {\"standoff\": 15}, \"zerolinecolor\": \"white\", \"zerolinewidth\": 2}}}, \"title\": {\"text\": \"DQN: train s-reward 0, profits 0, test s-reward 0, profits 0\"}},\n",
              "                        {\"responsive\": true}\n",
              "                    ).then(function(){\n",
              "                            \n",
              "var gd = document.getElementById('a224de95-d6ef-4eda-91c3-605a53884638');\n",
              "var x = new MutationObserver(function (mutations, observer) {{\n",
              "        var display = window.getComputedStyle(gd).display;\n",
              "        if (!display || display === 'none') {{\n",
              "            console.log([gd, 'removed!']);\n",
              "            Plotly.purge(gd);\n",
              "            observer.disconnect();\n",
              "        }}\n",
              "}});\n",
              "\n",
              "// Listen for the removal of the full notebook cells\n",
              "var notebookContainer = gd.closest('#notebook-container');\n",
              "if (notebookContainer) {{\n",
              "    x.observe(notebookContainer, {childList: true});\n",
              "}}\n",
              "\n",
              "// Listen for the clearing of the current output cell\n",
              "var outputEl = gd.closest('.output');\n",
              "if (outputEl) {{\n",
              "    x.observe(outputEl, {childList: true});\n",
              "}}\n",
              "\n",
              "                        })\n",
              "                };\n",
              "                });\n",
              "            </script>\n",
              "        </div>"
            ],
            "application/vnd.plotly.v1+json": {
              "data": [
                {
                  "x": [
                    2,
                    3,
                    4,
                    5,
                    6,
                    7,
                    8,
                    9,
                    10,
                    11,
                    12,
                    13,
                    14,
                    15,
                    16,
                    17,
                    18,
                    19,
                    20,
                    21,
                    22,
                    23,
                    24,
                    25,
                    26,
                    27,
                    28,
                    29,
                    30,
                    31,
                    32,
                    33,
                    34,
                    35,
                    36,
                    37,
                    38,
                    39,
                    40,
                    41,
                    42,
                    43,
                    44,
                    45,
                    46,
                    47,
                    48,
                    49,
                    50,
                    51,
                    52,
                    53,
                    54,
                    55,
                    56,
                    57,
                    58,
                    59,
                    60,
                    61,
                    62,
                    63,
                    64,
                    65,
                    66,
                    67,
                    68,
                    69,
                    70,
                    71,
                    72,
                    73,
                    74,
                    75,
                    76,
                    77,
                    78,
                    79,
                    80,
                    81,
                    82,
                    83,
                    84,
                    85,
                    86,
                    87,
                    88,
                    89,
                    90,
                    91,
                    92,
                    93,
                    94,
                    95,
                    96,
                    97,
                    98,
                    99,
                    100,
                    101,
                    102,
                    103,
                    104,
                    105,
                    106,
                    107,
                    108,
                    109,
                    110,
                    111,
                    112,
                    113,
                    114,
                    115,
                    116,
                    117
                  ],
                  "type": "candlestick",
                  "high": [
                    1.4335,
                    1.4314,
                    1.4282,
                    1.425,
                    1.4234,
                    1.4218,
                    1.42,
                    1.4180000000000001,
                    1.4166,
                    1.4152,
                    1.4127,
                    1.4108,
                    1.4098,
                    1.4094,
                    1.4079,
                    1.4069,
                    1.4061,
                    1.4022,
                    1.4018,
                    1.4004,
                    1.3989,
                    1.3982,
                    1.3973,
                    1.3971,
                    1.3953,
                    1.3937,
                    1.3931,
                    1.392,
                    1.3903,
                    1.3896,
                    1.3885,
                    1.3869,
                    1.3857,
                    1.3832,
                    1.3837,
                    1.3825,
                    1.3803,
                    1.3798,
                    1.3785,
                    1.3781,
                    1.3763,
                    1.3757,
                    1.3743,
                    1.3726,
                    1.3716,
                    1.3711,
                    1.3691,
                    1.3697,
                    1.3757,
                    1.3754,
                    1.3727,
                    1.3718,
                    1.3707,
                    1.3701,
                    1.3723,
                    1.3579,
                    1.3634,
                    1.3634,
                    1.3641,
                    1.3639,
                    1.3636,
                    1.3628,
                    1.3622,
                    1.3619,
                    1.3624,
                    1.3616,
                    1.3616,
                    1.3621,
                    1.3588,
                    1.3597,
                    1.3598,
                    1.3599,
                    1.3687,
                    1.3549,
                    1.3458,
                    1.3464,
                    1.3454,
                    1.3451,
                    1.345,
                    1.3561,
                    1.3454,
                    1.3409,
                    1.3528,
                    1.354,
                    1.3557,
                    1.3406,
                    1.3424,
                    1.3344,
                    1.3254,
                    1.33,
                    1.3465,
                    1.3546,
                    1.3092,
                    1.2907,
                    1.2936,
                    1.2947,
                    1.2944,
                    1.2972,
                    1.2944,
                    1.2941,
                    1.2951,
                    1.2937,
                    1.2935,
                    1.2893,
                    1.2781,
                    1.2767,
                    1.2763,
                    1.2728,
                    1.2713,
                    1.271,
                    1.2691,
                    1.2658,
                    1.2618,
                    1.258,
                    1.2563,
                    1.2555
                  ],
                  "low": [
                    1.4335,
                    1.4314,
                    1.4282,
                    1.425,
                    1.4234,
                    1.4218,
                    1.42,
                    1.4180000000000001,
                    1.4166,
                    1.4152,
                    1.4127,
                    1.4108,
                    1.4098,
                    1.4094,
                    1.4079,
                    1.4069,
                    1.4061,
                    1.4022,
                    1.4018,
                    1.4004,
                    1.3989,
                    1.3982,
                    1.3973,
                    1.3971,
                    1.3953,
                    1.3937,
                    1.3931,
                    1.392,
                    1.3903,
                    1.3896,
                    1.3885,
                    1.3869,
                    1.3857,
                    1.3832,
                    1.3837,
                    1.3825,
                    1.3803,
                    1.3798,
                    1.3785,
                    1.3781,
                    1.3763,
                    1.3757,
                    1.3743,
                    1.3726,
                    1.3716,
                    1.3711,
                    1.3691,
                    1.3697,
                    1.3757,
                    1.3754,
                    1.3727,
                    1.3718,
                    1.3707,
                    1.3701,
                    1.3723,
                    1.3579,
                    1.3634,
                    1.3634,
                    1.3641,
                    1.3639,
                    1.3636,
                    1.3628,
                    1.3622,
                    1.3619,
                    1.3624,
                    1.3616,
                    1.3616,
                    1.3621,
                    1.3588,
                    1.3597,
                    1.3598,
                    1.3599,
                    1.3687,
                    1.3549,
                    1.3458,
                    1.3464,
                    1.3454,
                    1.3451,
                    1.345,
                    1.3561,
                    1.3454,
                    1.3409,
                    1.3528,
                    1.354,
                    1.3557,
                    1.3406,
                    1.3424,
                    1.3344,
                    1.3254,
                    1.33,
                    1.3465,
                    1.3546,
                    1.3092,
                    1.2907,
                    1.2936,
                    1.2947,
                    1.2944,
                    1.2972,
                    1.2944,
                    1.2941,
                    1.2951,
                    1.2937,
                    1.2935,
                    1.2893,
                    1.2781,
                    1.2767,
                    1.2763,
                    1.2728,
                    1.2713,
                    1.271,
                    1.2691,
                    1.2658,
                    1.2618,
                    1.258,
                    1.2563,
                    1.2555
                  ],
                  "decreasing": {
                    "line": {
                      "color": "magenta"
                    }
                  },
                  "close": [
                    1.4335,
                    1.4314,
                    1.4282,
                    1.425,
                    1.4234,
                    1.4218,
                    1.42,
                    1.4180000000000001,
                    1.4166,
                    1.4152,
                    1.4127,
                    1.4108,
                    1.4098,
                    1.4094,
                    1.4079,
                    1.4069,
                    1.4061,
                    1.4022,
                    1.4018,
                    1.4004,
                    1.3989,
                    1.3982,
                    1.3973,
                    1.3971,
                    1.3953,
                    1.3937,
                    1.3931,
                    1.392,
                    1.3903,
                    1.3896,
                    1.3885,
                    1.3869,
                    1.3857,
                    1.3832,
                    1.3837,
                    1.3825,
                    1.3803,
                    1.3798,
                    1.3785,
                    1.3781,
                    1.3763,
                    1.3757,
                    1.3743,
                    1.3726,
                    1.3716,
                    1.3711,
                    1.3691,
                    1.3697,
                    1.3757,
                    1.3754,
                    1.3727,
                    1.3718,
                    1.3707,
                    1.3701,
                    1.3723,
                    1.3579,
                    1.3634,
                    1.3634,
                    1.3641,
                    1.3639,
                    1.3636,
                    1.3628,
                    1.3622,
                    1.3619,
                    1.3624,
                    1.3616,
                    1.3616,
                    1.3621,
                    1.3588,
                    1.3597,
                    1.3598,
                    1.3599,
                    1.3687,
                    1.3549,
                    1.3458,
                    1.3464,
                    1.3454,
                    1.3451,
                    1.345,
                    1.3561,
                    1.3454,
                    1.3409,
                    1.3528,
                    1.354,
                    1.3557,
                    1.3406,
                    1.3424,
                    1.3344,
                    1.3254,
                    1.33,
                    1.3465,
                    1.3546,
                    1.3092,
                    1.2907,
                    1.2936,
                    1.2947,
                    1.2944,
                    1.2972,
                    1.2944,
                    1.2941,
                    1.2951,
                    1.2937,
                    1.2935,
                    1.2893,
                    1.2781,
                    1.2767,
                    1.2763,
                    1.2728,
                    1.2713,
                    1.271,
                    1.2691,
                    1.2658,
                    1.2618,
                    1.258,
                    1.2563,
                    1.2555
                  ],
                  "increasing": {
                    "line": {
                      "color": "magenta"
                    }
                  },
                  "open": [
                    1.4335,
                    1.4314,
                    1.4282,
                    1.425,
                    1.4234,
                    1.4218,
                    1.42,
                    1.4180000000000001,
                    1.4166,
                    1.4152,
                    1.4127,
                    1.4108,
                    1.4098,
                    1.4094,
                    1.4079,
                    1.4069,
                    1.4061,
                    1.4022,
                    1.4018,
                    1.4004,
                    1.3989,
                    1.3982,
                    1.3973,
                    1.3971,
                    1.3953,
                    1.3937,
                    1.3931,
                    1.392,
                    1.3903,
                    1.3896,
                    1.3885,
                    1.3869,
                    1.3857,
                    1.3832,
                    1.3837,
                    1.3825,
                    1.3803,
                    1.3798,
                    1.3785,
                    1.3781,
                    1.3763,
                    1.3757,
                    1.3743,
                    1.3726,
                    1.3716,
                    1.3711,
                    1.3691,
                    1.3697,
                    1.3757,
                    1.3754,
                    1.3727,
                    1.3718,
                    1.3707,
                    1.3701,
                    1.3723,
                    1.3579,
                    1.3634,
                    1.3634,
                    1.3641,
                    1.3639,
                    1.3636,
                    1.3628,
                    1.3622,
                    1.3619,
                    1.3624,
                    1.3616,
                    1.3616,
                    1.3621,
                    1.3588,
                    1.3597,
                    1.3598,
                    1.3599,
                    1.3687,
                    1.3549,
                    1.3458,
                    1.3464,
                    1.3454,
                    1.3451,
                    1.345,
                    1.3561,
                    1.3454,
                    1.3409,
                    1.3528,
                    1.354,
                    1.3557,
                    1.3406,
                    1.3424,
                    1.3344,
                    1.3254,
                    1.33,
                    1.3465,
                    1.3546,
                    1.3092,
                    1.2907,
                    1.2936,
                    1.2947,
                    1.2944,
                    1.2972,
                    1.2944,
                    1.2941,
                    1.2951,
                    1.2937,
                    1.2935,
                    1.2893,
                    1.2781,
                    1.2767,
                    1.2763,
                    1.2728,
                    1.2713,
                    1.271,
                    1.2691,
                    1.2658,
                    1.2618,
                    1.258,
                    1.2563,
                    1.2555
                  ]
                },
                {
                  "x": [
                    0,
                    1
                  ],
                  "type": "candlestick",
                  "high": [
                    1.4393,
                    1.436
                  ],
                  "low": [
                    1.4393,
                    1.436
                  ],
                  "decreasing": {
                    "line": {
                      "color": "cyan"
                    }
                  },
                  "close": [
                    1.4393,
                    1.436
                  ],
                  "increasing": {
                    "line": {
                      "color": "cyan"
                    }
                  },
                  "open": [
                    1.4393,
                    1.436
                  ]
                },
                {
                  "x": [
                    127,
                    128,
                    129,
                    130,
                    131
                  ],
                  "type": "candlestick",
                  "high": [
                    1.2414,
                    1.2399,
                    1.2355,
                    1.2303,
                    1.2284
                  ],
                  "low": [
                    1.2414,
                    1.2399,
                    1.2355,
                    1.2303,
                    1.2284
                  ],
                  "decreasing": {
                    "line": {
                      "color": "magenta"
                    }
                  },
                  "close": [
                    1.2414,
                    1.2399,
                    1.2355,
                    1.2303,
                    1.2284
                  ],
                  "increasing": {
                    "line": {
                      "color": "magenta"
                    }
                  },
                  "open": [
                    1.2414,
                    1.2399,
                    1.2355,
                    1.2303,
                    1.2284
                  ]
                },
                {
                  "x": [
                    119,
                    120,
                    121,
                    122,
                    123,
                    124,
                    125,
                    126
                  ],
                  "type": "candlestick",
                  "high": [
                    1.252,
                    1.2474,
                    1.2468,
                    1.2502,
                    1.2529,
                    1.2476,
                    1.2463,
                    1.2434
                  ],
                  "low": [
                    1.252,
                    1.2474,
                    1.2468,
                    1.2502,
                    1.2529,
                    1.2476,
                    1.2463,
                    1.2434
                  ],
                  "decreasing": {
                    "line": {
                      "color": "cyan"
                    }
                  },
                  "close": [
                    1.252,
                    1.2474,
                    1.2468,
                    1.2502,
                    1.2529,
                    1.2476,
                    1.2463,
                    1.2434
                  ],
                  "increasing": {
                    "line": {
                      "color": "cyan"
                    }
                  },
                  "open": [
                    1.252,
                    1.2474,
                    1.2468,
                    1.2502,
                    1.2529,
                    1.2476,
                    1.2463,
                    1.2434
                  ]
                }
              ],
              "config": {
                "plotlyServerURL": "https://plot.ly",
                "linkText": "Export to plot.ly",
                "showLink": false
              },
              "layout": {
                "shapes": [
                  {
                    "xref": "x",
                    "yref": "paper",
                    "y1": 1,
                    "y0": 0,
                    "line": {
                      "color": "rgb(0,0,0)",
                      "width": 1
                    },
                    "x1": 100,
                    "x0": 100
                  }
                ],
                "showlegend": true,
                "annotations": [
                  {
                    "xref": "x",
                    "xanchor": "left",
                    "yref": "paper",
                    "text": " test data",
                    "y": 1,
                    "x": 100,
                    "showarrow": false
                  },
                  {
                    "xref": "x",
                    "xanchor": "right",
                    "yref": "paper",
                    "text": "train data ",
                    "y": 1,
                    "x": 100,
                    "showarrow": false
                  }
                ],
                "template": {
                  "layout": {
                    "shapedefaults": {
                      "line": {
                        "color": "#2a3f5f"
                      }
                    },
                    "polar": {
                      "radialaxis": {
                        "ticks": "",
                        "gridcolor": "white",
                        "linecolor": "white"
                      },
                      "bgcolor": "#E5ECF6",
                      "angularaxis": {
                        "ticks": "",
                        "gridcolor": "white",
                        "linecolor": "white"
                      }
                    },
                    "colorway": [
                      "#636efa",
                      "#EF553B",
                      "#00cc96",
                      "#ab63fa",
                      "#FFA15A",
                      "#19d3f3",
                      "#FF6692",
                      "#B6E880",
                      "#FF97FF",
                      "#FECB52"
                    ],
                    "xaxis": {
                      "automargin": true,
                      "title": {
                        "standoff": 15
                      },
                      "zerolinewidth": 2,
                      "ticks": "",
                      "zerolinecolor": "white",
                      "gridcolor": "white",
                      "linecolor": "white"
                    },
                    "colorscale": {
                      "diverging": [
                        [
                          0,
                          "#8e0152"
                        ],
                        [
                          0.1,
                          "#c51b7d"
                        ],
                        [
                          0.2,
                          "#de77ae"
                        ],
                        [
                          0.3,
                          "#f1b6da"
                        ],
                        [
                          0.4,
                          "#fde0ef"
                        ],
                        [
                          0.5,
                          "#f7f7f7"
                        ],
                        [
                          0.6,
                          "#e6f5d0"
                        ],
                        [
                          0.7,
                          "#b8e186"
                        ],
                        [
                          0.8,
                          "#7fbc41"
                        ],
                        [
                          0.9,
                          "#4d9221"
                        ],
                        [
                          1,
                          "#276419"
                        ]
                      ],
                      "sequential": [
                        [
                          0,
                          "#0d0887"
                        ],
                        [
                          0.1111111111111111,
                          "#46039f"
                        ],
                        [
                          0.2222222222222222,
                          "#7201a8"
                        ],
                        [
                          0.3333333333333333,
                          "#9c179e"
                        ],
                        [
                          0.4444444444444444,
                          "#bd3786"
                        ],
                        [
                          0.5555555555555556,
                          "#d8576b"
                        ],
                        [
                          0.6666666666666666,
                          "#ed7953"
                        ],
                        [
                          0.7777777777777778,
                          "#fb9f3a"
                        ],
                        [
                          0.8888888888888888,
                          "#fdca26"
                        ],
                        [
                          1,
                          "#f0f921"
                        ]
                      ],
                      "sequentialminus": [
                        [
                          0,
                          "#0d0887"
                        ],
                        [
                          0.1111111111111111,
                          "#46039f"
                        ],
                        [
                          0.2222222222222222,
                          "#7201a8"
                        ],
                        [
                          0.3333333333333333,
                          "#9c179e"
                        ],
                        [
                          0.4444444444444444,
                          "#bd3786"
                        ],
                        [
                          0.5555555555555556,
                          "#d8576b"
                        ],
                        [
                          0.6666666666666666,
                          "#ed7953"
                        ],
                        [
                          0.7777777777777778,
                          "#fb9f3a"
                        ],
                        [
                          0.8888888888888888,
                          "#fdca26"
                        ],
                        [
                          1,
                          "#f0f921"
                        ]
                      ]
                    },
                    "paper_bgcolor": "white",
                    "plot_bgcolor": "#E5ECF6",
                    "title": {
                      "x": 0.05
                    },
                    "scene": {
                      "zaxis": {
                        "backgroundcolor": "#E5ECF6",
                        "ticks": "",
                        "gridwidth": 2,
                        "showbackground": true,
                        "zerolinecolor": "white",
                        "gridcolor": "white",
                        "linecolor": "white"
                      },
                      "xaxis": {
                        "backgroundcolor": "#E5ECF6",
                        "ticks": "",
                        "gridwidth": 2,
                        "showbackground": true,
                        "zerolinecolor": "white",
                        "gridcolor": "white",
                        "linecolor": "white"
                      },
                      "yaxis": {
                        "backgroundcolor": "#E5ECF6",
                        "ticks": "",
                        "gridwidth": 2,
                        "showbackground": true,
                        "zerolinecolor": "white",
                        "gridcolor": "white",
                        "linecolor": "white"
                      }
                    },
                    "yaxis": {
                      "automargin": true,
                      "title": {
                        "standoff": 15
                      },
                      "zerolinewidth": 2,
                      "ticks": "",
                      "zerolinecolor": "white",
                      "gridcolor": "white",
                      "linecolor": "white"
                    },
                    "annotationdefaults": {
                      "arrowwidth": 1,
                      "arrowhead": 0,
                      "arrowcolor": "#2a3f5f"
                    },
                    "hoverlabel": {
                      "align": "left"
                    },
                    "ternary": {
                      "bgcolor": "#E5ECF6",
                      "baxis": {
                        "ticks": "",
                        "gridcolor": "white",
                        "linecolor": "white"
                      },
                      "caxis": {
                        "ticks": "",
                        "gridcolor": "white",
                        "linecolor": "white"
                      },
                      "aaxis": {
                        "ticks": "",
                        "gridcolor": "white",
                        "linecolor": "white"
                      }
                    },
                    "mapbox": {
                      "style": "light"
                    },
                    "hovermode": "closest",
                    "font": {
                      "color": "#2a3f5f"
                    },
                    "geo": {
                      "showland": true,
                      "landcolor": "#E5ECF6",
                      "showlakes": true,
                      "bgcolor": "white",
                      "subunitcolor": "white",
                      "lakecolor": "white"
                    },
                    "coloraxis": {
                      "colorbar": {
                        "outlinewidth": 0,
                        "ticks": ""
                      }
                    }
                  },
                  "data": {
                    "mesh3d": [
                      {
                        "colorbar": {
                          "outlinewidth": 0,
                          "ticks": ""
                        },
                        "type": "mesh3d"
                      }
                    ],
                    "scattercarpet": [
                      {
                        "marker": {
                          "colorbar": {
                            "outlinewidth": 0,
                            "ticks": ""
                          }
                        },
                        "type": "scattercarpet"
                      }
                    ],
                    "pie": [
                      {
                        "automargin": true,
                        "type": "pie"
                      }
                    ],
                    "surface": [
                      {
                        "colorbar": {
                          "outlinewidth": 0,
                          "ticks": ""
                        },
                        "type": "surface",
                        "colorscale": [
                          [
                            0,
                            "#0d0887"
                          ],
                          [
                            0.1111111111111111,
                            "#46039f"
                          ],
                          [
                            0.2222222222222222,
                            "#7201a8"
                          ],
                          [
                            0.3333333333333333,
                            "#9c179e"
                          ],
                          [
                            0.4444444444444444,
                            "#bd3786"
                          ],
                          [
                            0.5555555555555556,
                            "#d8576b"
                          ],
                          [
                            0.6666666666666666,
                            "#ed7953"
                          ],
                          [
                            0.7777777777777778,
                            "#fb9f3a"
                          ],
                          [
                            0.8888888888888888,
                            "#fdca26"
                          ],
                          [
                            1,
                            "#f0f921"
                          ]
                        ]
                      }
                    ],
                    "table": [
                      {
                        "header": {
                          "line": {
                            "color": "white"
                          },
                          "fill": {
                            "color": "#C8D4E3"
                          }
                        },
                        "cells": {
                          "line": {
                            "color": "white"
                          },
                          "fill": {
                            "color": "#EBF0F8"
                          }
                        },
                        "type": "table"
                      }
                    ],
                    "scatterpolargl": [
                      {
                        "marker": {
                          "colorbar": {
                            "outlinewidth": 0,
                            "ticks": ""
                          }
                        },
                        "type": "scatterpolargl"
                      }
                    ],
                    "contour": [
                      {
                        "colorbar": {
                          "outlinewidth": 0,
                          "ticks": ""
                        },
                        "type": "contour",
                        "colorscale": [
                          [
                            0,
                            "#0d0887"
                          ],
                          [
                            0.1111111111111111,
                            "#46039f"
                          ],
                          [
                            0.2222222222222222,
                            "#7201a8"
                          ],
                          [
                            0.3333333333333333,
                            "#9c179e"
                          ],
                          [
                            0.4444444444444444,
                            "#bd3786"
                          ],
                          [
                            0.5555555555555556,
                            "#d8576b"
                          ],
                          [
                            0.6666666666666666,
                            "#ed7953"
                          ],
                          [
                            0.7777777777777778,
                            "#fb9f3a"
                          ],
                          [
                            0.8888888888888888,
                            "#fdca26"
                          ],
                          [
                            1,
                            "#f0f921"
                          ]
                        ]
                      }
                    ],
                    "carpet": [
                      {
                        "type": "carpet",
                        "baxis": {
                          "minorgridcolor": "white",
                          "gridcolor": "white",
                          "linecolor": "white",
                          "endlinecolor": "#2a3f5f",
                          "startlinecolor": "#2a3f5f"
                        },
                        "aaxis": {
                          "minorgridcolor": "white",
                          "gridcolor": "white",
                          "linecolor": "white",
                          "endlinecolor": "#2a3f5f",
                          "startlinecolor": "#2a3f5f"
                        }
                      }
                    ],
                    "contourcarpet": [
                      {
                        "colorbar": {
                          "outlinewidth": 0,
                          "ticks": ""
                        },
                        "type": "contourcarpet"
                      }
                    ],
                    "heatmap": [
                      {
                        "colorbar": {
                          "outlinewidth": 0,
                          "ticks": ""
                        },
                        "type": "heatmap",
                        "colorscale": [
                          [
                            0,
                            "#0d0887"
                          ],
                          [
                            0.1111111111111111,
                            "#46039f"
                          ],
                          [
                            0.2222222222222222,
                            "#7201a8"
                          ],
                          [
                            0.3333333333333333,
                            "#9c179e"
                          ],
                          [
                            0.4444444444444444,
                            "#bd3786"
                          ],
                          [
                            0.5555555555555556,
                            "#d8576b"
                          ],
                          [
                            0.6666666666666666,
                            "#ed7953"
                          ],
                          [
                            0.7777777777777778,
                            "#fb9f3a"
                          ],
                          [
                            0.8888888888888888,
                            "#fdca26"
                          ],
                          [
                            1,
                            "#f0f921"
                          ]
                        ]
                      }
                    ],
                    "scattermapbox": [
                      {
                        "marker": {
                          "colorbar": {
                            "outlinewidth": 0,
                            "ticks": ""
                          }
                        },
                        "type": "scattermapbox"
                      }
                    ],
                    "scatter3d": [
                      {
                        "marker": {
                          "colorbar": {
                            "outlinewidth": 0,
                            "ticks": ""
                          }
                        },
                        "line": {
                          "colorbar": {
                            "outlinewidth": 0,
                            "ticks": ""
                          }
                        },
                        "type": "scatter3d"
                      }
                    ],
                    "scattergl": [
                      {
                        "marker": {
                          "colorbar": {
                            "outlinewidth": 0,
                            "ticks": ""
                          }
                        },
                        "type": "scattergl"
                      }
                    ],
                    "scatterternary": [
                      {
                        "marker": {
                          "colorbar": {
                            "outlinewidth": 0,
                            "ticks": ""
                          }
                        },
                        "type": "scatterternary"
                      }
                    ],
                    "histogram": [
                      {
                        "marker": {
                          "colorbar": {
                            "outlinewidth": 0,
                            "ticks": ""
                          }
                        },
                        "type": "histogram"
                      }
                    ],
                    "heatmapgl": [
                      {
                        "colorbar": {
                          "outlinewidth": 0,
                          "ticks": ""
                        },
                        "type": "heatmapgl",
                        "colorscale": [
                          [
                            0,
                            "#0d0887"
                          ],
                          [
                            0.1111111111111111,
                            "#46039f"
                          ],
                          [
                            0.2222222222222222,
                            "#7201a8"
                          ],
                          [
                            0.3333333333333333,
                            "#9c179e"
                          ],
                          [
                            0.4444444444444444,
                            "#bd3786"
                          ],
                          [
                            0.5555555555555556,
                            "#d8576b"
                          ],
                          [
                            0.6666666666666666,
                            "#ed7953"
                          ],
                          [
                            0.7777777777777778,
                            "#fb9f3a"
                          ],
                          [
                            0.8888888888888888,
                            "#fdca26"
                          ],
                          [
                            1,
                            "#f0f921"
                          ]
                        ]
                      }
                    ],
                    "scatterpolar": [
                      {
                        "marker": {
                          "colorbar": {
                            "outlinewidth": 0,
                            "ticks": ""
                          }
                        },
                        "type": "scatterpolar"
                      }
                    ],
                    "histogram2d": [
                      {
                        "colorbar": {
                          "outlinewidth": 0,
                          "ticks": ""
                        },
                        "type": "histogram2d",
                        "colorscale": [
                          [
                            0,
                            "#0d0887"
                          ],
                          [
                            0.1111111111111111,
                            "#46039f"
                          ],
                          [
                            0.2222222222222222,
                            "#7201a8"
                          ],
                          [
                            0.3333333333333333,
                            "#9c179e"
                          ],
                          [
                            0.4444444444444444,
                            "#bd3786"
                          ],
                          [
                            0.5555555555555556,
                            "#d8576b"
                          ],
                          [
                            0.6666666666666666,
                            "#ed7953"
                          ],
                          [
                            0.7777777777777778,
                            "#fb9f3a"
                          ],
                          [
                            0.8888888888888888,
                            "#fdca26"
                          ],
                          [
                            1,
                            "#f0f921"
                          ]
                        ]
                      }
                    ],
                    "scattergeo": [
                      {
                        "marker": {
                          "colorbar": {
                            "outlinewidth": 0,
                            "ticks": ""
                          }
                        },
                        "type": "scattergeo"
                      }
                    ],
                    "bar": [
                      {
                        "marker": {
                          "line": {
                            "color": "#E5ECF6",
                            "width": 0.5
                          }
                        },
                        "type": "bar",
                        "error_x": {
                          "color": "#2a3f5f"
                        },
                        "error_y": {
                          "color": "#2a3f5f"
                        }
                      }
                    ],
                    "choropleth": [
                      {
                        "colorbar": {
                          "outlinewidth": 0,
                          "ticks": ""
                        },
                        "type": "choropleth"
                      }
                    ],
                    "parcoords": [
                      {
                        "line": {
                          "colorbar": {
                            "outlinewidth": 0,
                            "ticks": ""
                          }
                        },
                        "type": "parcoords"
                      }
                    ],
                    "barpolar": [
                      {
                        "marker": {
                          "line": {
                            "color": "#E5ECF6",
                            "width": 0.5
                          }
                        },
                        "type": "barpolar"
                      }
                    ],
                    "histogram2dcontour": [
                      {
                        "colorbar": {
                          "outlinewidth": 0,
                          "ticks": ""
                        },
                        "type": "histogram2dcontour",
                        "colorscale": [
                          [
                            0,
                            "#0d0887"
                          ],
                          [
                            0.1111111111111111,
                            "#46039f"
                          ],
                          [
                            0.2222222222222222,
                            "#7201a8"
                          ],
                          [
                            0.3333333333333333,
                            "#9c179e"
                          ],
                          [
                            0.4444444444444444,
                            "#bd3786"
                          ],
                          [
                            0.5555555555555556,
                            "#d8576b"
                          ],
                          [
                            0.6666666666666666,
                            "#ed7953"
                          ],
                          [
                            0.7777777777777778,
                            "#fb9f3a"
                          ],
                          [
                            0.8888888888888888,
                            "#fdca26"
                          ],
                          [
                            1,
                            "#f0f921"
                          ]
                        ]
                      }
                    ],
                    "scatter": [
                      {
                        "marker": {
                          "colorbar": {
                            "outlinewidth": 0,
                            "ticks": ""
                          }
                        },
                        "type": "scatter"
                      }
                    ]
                  }
                },
                "title": {
                  "text": "DQN: train s-reward 0, profits 0, test s-reward 0, profits 0"
                }
              }
            }
          },
          "metadata": {}
        }
      ]
    },
    {
      "cell_type": "code",
      "metadata": {
        "id": "Trl37I24TZRy"
      },
      "source": [
        ""
      ],
      "execution_count": null,
      "outputs": []
    }
  ]
}
