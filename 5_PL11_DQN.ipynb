{
  "nbformat": 4,
  "nbformat_minor": 0,
  "metadata": {
    "accelerator": "GPU",
    "colab": {
      "name": "5_PL11_DQN.ipynb",
      "provenance": [],
      "collapsed_sections": []
    },
    "kernelspec": {
      "display_name": "Python 3",
      "name": "python3"
    },
    "language_info": {
      "name": "python"
    }
  },
  "cells": [
    {
      "cell_type": "code",
      "metadata": {
        "id": "7jn9FnQBwxvu"
      },
      "source": [
        "! pip install chainer\n",
        "import numpy as np\n",
        "import pandas as pd\n",
        "import matplotlib.pyplot as plt\n",
        "import seaborn as sns\n",
        "from subprocess import check_output\n",
        "import time\n",
        "import math\n",
        "import random\n",
        "import copy\n",
        "import torch\n",
        "from sklearn.utils import shuffle\n",
        "import chainer\n",
        "import chainer.functions as F\n",
        "import chainer.links as L\n",
        "from plotly import tools\n",
        "from plotly.graph_objs import *\n",
        "from plotly.offline import init_notebook_mode, iplot, iplot_mpl\n",
        "init_notebook_mode(connected=True)"
      ],
      "execution_count": null,
      "outputs": []
    },
    {
      "cell_type": "markdown",
      "metadata": {
        "id": "X_imeB6q1wKq"
      },
      "source": [
        "Dataset"
      ]
    },
    {
      "cell_type": "code",
      "metadata": {
        "colab": {
          "base_uri": "https://localhost:8080/",
          "height": 204
        },
        "id": "5uSgQLS7xCKp",
        "outputId": "c48fa996-1617-44b8-e990-fbfc04fb2990"
      },
      "source": [
        "df = pd.read_csv('/content/PL11_data_all_En.csv')\n",
        "df.head()"
      ],
      "execution_count": 10,
      "outputs": [
        {
          "output_type": "execute_result",
          "data": {
            "text/html": [
              "<div>\n",
              "<style scoped>\n",
              "    .dataframe tbody tr th:only-of-type {\n",
              "        vertical-align: middle;\n",
              "    }\n",
              "\n",
              "    .dataframe tbody tr th {\n",
              "        vertical-align: top;\n",
              "    }\n",
              "\n",
              "    .dataframe thead th {\n",
              "        text-align: right;\n",
              "    }\n",
              "</style>\n",
              "<table border=\"1\" class=\"dataframe\">\n",
              "  <thead>\n",
              "    <tr style=\"text-align: right;\">\n",
              "      <th></th>\n",
              "      <th>Cycles</th>\n",
              "      <th>Capacity</th>\n",
              "      <th>PerEn3</th>\n",
              "    </tr>\n",
              "  </thead>\n",
              "  <tbody>\n",
              "    <tr>\n",
              "      <th>0</th>\n",
              "      <td>6</td>\n",
              "      <td>1.4393</td>\n",
              "      <td>1.8572</td>\n",
              "    </tr>\n",
              "    <tr>\n",
              "      <th>1</th>\n",
              "      <td>11</td>\n",
              "      <td>1.4360</td>\n",
              "      <td>1.8107</td>\n",
              "    </tr>\n",
              "    <tr>\n",
              "      <th>2</th>\n",
              "      <td>16</td>\n",
              "      <td>1.4335</td>\n",
              "      <td>1.7562</td>\n",
              "    </tr>\n",
              "    <tr>\n",
              "      <th>3</th>\n",
              "      <td>21</td>\n",
              "      <td>1.4314</td>\n",
              "      <td>1.7692</td>\n",
              "    </tr>\n",
              "    <tr>\n",
              "      <th>4</th>\n",
              "      <td>26</td>\n",
              "      <td>1.4282</td>\n",
              "      <td>1.8305</td>\n",
              "    </tr>\n",
              "  </tbody>\n",
              "</table>\n",
              "</div>"
            ],
            "text/plain": [
              "   Cycles  Capacity  PerEn3\n",
              "0       6    1.4393  1.8572\n",
              "1      11    1.4360  1.8107\n",
              "2      16    1.4335  1.7562\n",
              "3      21    1.4314  1.7692\n",
              "4      26    1.4282  1.8305"
            ]
          },
          "metadata": {},
          "execution_count": 10
        }
      ]
    },
    {
      "cell_type": "code",
      "metadata": {
        "colab": {
          "base_uri": "https://localhost:8080/"
        },
        "id": "y_jX89tA-Ot8",
        "outputId": "89b63677-58ed-4ecc-aa88-7f70fa57cfe6"
      },
      "source": [
        "df.info()"
      ],
      "execution_count": 7,
      "outputs": [
        {
          "output_type": "stream",
          "name": "stdout",
          "text": [
            "<class 'pandas.core.frame.DataFrame'>\n",
            "RangeIndex: 133 entries, 0 to 132\n",
            "Data columns (total 3 columns):\n",
            " #   Column    Non-Null Count  Dtype  \n",
            "---  ------    --------------  -----  \n",
            " 0   Cycles    133 non-null    int64  \n",
            " 1   Capacity  133 non-null    float64\n",
            " 2   PerEn3    133 non-null    float64\n",
            "dtypes: float64(2), int64(1)\n",
            "memory usage: 3.2 KB\n"
          ]
        }
      ]
    },
    {
      "cell_type": "code",
      "metadata": {
        "id": "x_H4nmmVEyeB"
      },
      "source": [
        "df.drop({'Cycles'},axis=1,inplace=True)\n",
        "#data = shuffle(df)\n",
        "train = df[:119]\n",
        "test = df[119:]"
      ],
      "execution_count": 11,
      "outputs": []
    },
    {
      "cell_type": "markdown",
      "metadata": {
        "id": "Q1RZ0IpK1zKK"
      },
      "source": [
        "Environmet"
      ]
    },
    {
      "cell_type": "code",
      "metadata": {
        "id": "Gyxu3lc8z407"
      },
      "source": [
        "class Environment1:\n",
        "    \n",
        "    def __init__(self, data, history_t=10):\n",
        "        self.data = data\n",
        "        self.history_t = history_t\n",
        "        self.reset()\n",
        "        \n",
        "    def reset(self):\n",
        "        self.t = 0\n",
        "        self.done = False\n",
        "        self.profits = 0\n",
        "        self.positions = []\n",
        "        self.position_value = 0\n",
        "        self.history = [0 for _ in range(self.history_t)]\n",
        "        return [self.position_value] + self.history # obs\n",
        "    \n",
        "    def step(self, act):\n",
        "        reward = 0\n",
        "        \n",
        "        # act:         0: Charge,     1: No Charge\n",
        "        if act == 0:\n",
        "            self.positions.append(self.data.iloc[self.t, :]['Capacity'])\n",
        "        elif act == 1: \n",
        "             profits = 0\n",
        "             for p in self.positions:\n",
        "               profits += (self.data.iloc[self.t, :]['Capacity'] - p)\n",
        "             reward += profits\n",
        "             self.profits += profits\n",
        "             self.positions = []\n",
        "        \n",
        "        # set next time\n",
        "        self.t += 1\n",
        "        self.position_value = 0\n",
        "        for p in self.positions:\n",
        "            self.position_value += (self.data.iloc[self.t, :]['Capacity'] - p)\n",
        "        self.history.pop(0)\n",
        "        self.history.append(self.data.iloc[self.t, :]['Capacity'] - self.data.iloc[(self.t-1), :]['Capacity'])\n",
        "        \n",
        "        # clipping reward\n",
        "        if reward > 0:\n",
        "            reward = 1\n",
        "        elif reward < 0:\n",
        "            reward = -1\n",
        "        \n",
        "        return [self.position_value] + self.history, reward, self.done # obs, reward, done"
      ],
      "execution_count": 34,
      "outputs": []
    },
    {
      "cell_type": "code",
      "metadata": {
        "colab": {
          "base_uri": "https://localhost:8080/"
        },
        "id": "yyXIAQdLMxGh",
        "outputId": "e1a13738-6b49-49bb-abeb-ff87dc0f4125"
      },
      "source": [
        "class Environment2:\n",
        "    \n",
        "    def __init__(self, newdf,history_t=0):\n",
        "\n",
        "        self.history_t = history_t\n",
        "        self.data = train\n",
        "        self.n_samples = train.shape[0]\n",
        "        self.capacity =  torch.FloatTensor(train['Capacity'].values)\n",
        "        self.states = torch.FloatTensor(train['PerEn3'].values)\n",
        "        self.observation_space = torch.FloatTensor(train['PerEn3'].values) #.reshape(100,1)\n",
        "        self.action_space = torch.FloatTensor(train['Capacity'].values)\n",
        "        self.idx = 0\n",
        "    \n",
        "    def reset(self):\n",
        "        self.idx = 0\n",
        "        return self.states[self.idx].view(1, -1)\n",
        "    \n",
        "    def step(self, action):\n",
        "      \n",
        "        #profits = action/(df.iloc[0]['Capacity'])\n",
        "\n",
        "        if action > 0.9:\n",
        "          #print('Charge')\n",
        "          reward = 1\n",
        "        else:\n",
        "          reward = 0\n",
        "          #print('No Charge')\n",
        "\n",
        "        self.idx += 1\n",
        "\n",
        "        if self.idx >= self.n_samples:\n",
        "            done = True\n",
        "            self.idx = 0\n",
        "        else:\n",
        "            done = False\n",
        "\n",
        "        return self.states[self.idx].view(1, -1), reward, done\n",
        "\n",
        "env = Environment2(train)\n",
        "print(env.reset())\n",
        "for _ in range(3):\n",
        "    pact = np.random.randint(3)\n",
        "    print(env.step(pact))"
      ],
      "execution_count": 50,
      "outputs": [
        {
          "output_type": "stream",
          "name": "stdout",
          "text": [
            "tensor([[1.8572]])\n",
            "(tensor([[1.8107]]), 0, False)\n",
            "(tensor([[1.7562]]), 1, False)\n",
            "(tensor([[1.7692]]), 1, False)\n"
          ]
        }
      ]
    },
    {
      "cell_type": "markdown",
      "metadata": {
        "id": "oOChqce412fZ"
      },
      "source": [
        "Model"
      ]
    },
    {
      "cell_type": "code",
      "metadata": {
        "id": "DNTDle0VzpQn"
      },
      "source": [
        "# DQN\n",
        "\n",
        "def train_dqn(env):\n",
        "\n",
        "    class Q_Network(chainer.Chain):\n",
        "\n",
        "        def __init__(self, input_size, hidden_size, output_size):\n",
        "            super(Q_Network, self).__init__(\n",
        "                fc1 = L.Linear(input_size, hidden_size),\n",
        "                fc2 = L.PReLU(hidden_size, hidden_size),\n",
        "                fc3 = L.Linear(hidden_size, hidden_size),\n",
        "                fc4 = L.Linear(hidden_size, output_size)\n",
        "            )\n",
        "\n",
        "        def __call__(self, x):\n",
        "            h = F.relu(self.fc1(x))\n",
        "            h = F.relu(self.fc2(h))\n",
        "            h = F.relu(self.fc3(h))\n",
        "            y = self.fc4(h)\n",
        "            return y\n",
        "\n",
        "        def reset(self):\n",
        "            self.zerograds()\n",
        "\n",
        "    Q = Q_Network(input_size=env.history_t+1, hidden_size=100, output_size=2)\n",
        "    Q_ast = copy.deepcopy(Q)\n",
        "    optimizer = chainer.optimizers.Adam()\n",
        "    optimizer.setup(Q)\n",
        "\n",
        "    epoch_num = 150\n",
        "    step_max = len(env.data)-1\n",
        "    memory_size = 200\n",
        "    batch_size = 20\n",
        "    epsilon = 1.0\n",
        "    epsilon_decrease = 1e-3\n",
        "    epsilon_min = 0.1\n",
        "    start_reduce_epsilon = 200\n",
        "    train_freq = 10\n",
        "    update_q_freq = 20\n",
        "    gamma = 0.97\n",
        "    show_log_freq = 5\n",
        "\n",
        "    memory = []\n",
        "    total_step = 0\n",
        "    total_rewards = []\n",
        "    total_losses = []\n",
        "\n",
        "    start = time.time()\n",
        "    for epoch in range(epoch_num):\n",
        "\n",
        "        pobs = env.reset()\n",
        "        step = 0\n",
        "        done = False\n",
        "        total_reward = 0\n",
        "        total_loss = 0\n",
        "\n",
        "        while not done and step < step_max:\n",
        "\n",
        "            pact = np.random.choice(train['Capacity'])/df['Capacity'][0]\n",
        "            if pact > 0.9:\n",
        "              pact = 1\n",
        "            else:\n",
        "              pact = 0\n",
        "\n",
        "            if np.random.rand() > epsilon:\n",
        "                pact = Q(np.array(pobs, dtype=np.float32).reshape(1, -1))\n",
        "                pact = np.argmax(pact.data)\n",
        "\n",
        "            obs, reward, done = env.step(pact)\n",
        "\n",
        "            memory.append((pobs, pact, reward, obs, done))\n",
        "            if len(memory) > memory_size:\n",
        "                memory.pop(0)\n",
        "\n",
        "            if len(memory) == memory_size:\n",
        "                if total_step % train_freq == 0:\n",
        "                    shuffled_memory = np.random.permutation(memory)\n",
        "                    memory_idx = range(len(shuffled_memory))\n",
        "                    for i in memory_idx[::batch_size]:\n",
        "                        batch = np.array(shuffled_memory[i:i+batch_size])\n",
        "                        b_pobs = np.array(batch[:, 0].tolist(), dtype=np.float32).reshape(batch_size, -1)\n",
        "                        b_pact = np.array(batch[:, 1].tolist(), dtype=np.int32)\n",
        "                        b_reward = np.array(batch[:, 2].tolist(), dtype=np.int32)\n",
        "                        b_obs = np.array(batch[:, 3].tolist(), dtype=np.float32).reshape(batch_size, -1)\n",
        "                        b_done = np.array(batch[:, 4].tolist(), dtype=np.bool)\n",
        "\n",
        "                        q = Q(b_pobs)\n",
        "                        maxq = np.max(Q_ast(b_obs).data, axis=1)\n",
        "                        target = copy.deepcopy(q.data)\n",
        "                        for j in range(batch_size):\n",
        "                            target[j, b_pact[j]] = b_reward[j]+gamma*maxq[j]*(not b_done[j])\n",
        "                        Q.reset()\n",
        "                        loss = F.mean_squared_error(q, target)\n",
        "                        total_loss += loss.data\n",
        "                        loss.backward()\n",
        "                        optimizer.update()\n",
        "\n",
        "                if total_step % update_q_freq == 0:\n",
        "                    Q_ast = copy.deepcopy(Q)\n",
        "\n",
        "            if epsilon > epsilon_min and total_step > start_reduce_epsilon:\n",
        "                epsilon -= epsilon_decrease\n",
        "\n",
        "            total_reward += reward\n",
        "            pobs = obs\n",
        "            step += 1\n",
        "            total_step += 1\n",
        "\n",
        "        total_rewards.append(total_reward)\n",
        "        total_losses.append(total_loss)\n",
        "\n",
        "        if (epoch+1) % show_log_freq == 0:\n",
        "            log_reward = sum(total_rewards[((epoch+1)-show_log_freq):])/show_log_freq\n",
        "            log_loss = sum(total_losses[((epoch+1)-show_log_freq):])/show_log_freq\n",
        "            elapsed_time = time.time()-start\n",
        "            #print('\\t'.join(map(str, [epoch+1, epsilon, total_step, log_reward, log_loss, elapsed_time])))\n",
        "            print('Epoch:{}     step:{}     reward:{}     loss:{}'.format(epoch+1,total_step,log_reward,log_loss))\n",
        "            start = time.time()\n",
        "            \n",
        "    return Q, total_losses, total_rewards, target, q\n",
        "    "
      ],
      "execution_count": 38,
      "outputs": []
    },
    {
      "cell_type": "markdown",
      "metadata": {
        "id": "RuWq_eK5XAyL"
      },
      "source": [
        "Training Using Environmet1"
      ]
    },
    {
      "cell_type": "code",
      "metadata": {
        "colab": {
          "base_uri": "https://localhost:8080/"
        },
        "id": "OgEKWxEwzxdg",
        "outputId": "0d897996-927e-4e30-86aa-99b9b430b793"
      },
      "source": [
        "Q, total_losses, total_rewards, target, q = train_dqn(Environment1(train))"
      ],
      "execution_count": 39,
      "outputs": [
        {
          "output_type": "stream",
          "name": "stderr",
          "text": [
            "/usr/local/lib/python3.7/dist-packages/numpy/core/_asarray.py:83: VisibleDeprecationWarning:\n",
            "\n",
            "Creating an ndarray from ragged nested sequences (which is a list-or-tuple of lists-or-tuples-or ndarrays with different lengths or shapes) is deprecated. If you meant to do this, you must specify 'dtype=object' when creating the ndarray\n",
            "\n"
          ]
        },
        {
          "output_type": "stream",
          "name": "stdout",
          "text": [
            "Epoch:5     step:590     reward:-15.8     loss:5.838264934252948\n",
            "Epoch:10     step:1180     reward:-8.8     loss:6.487370453774929\n",
            "Epoch:15     step:1770     reward:-2.6     loss:2.525874413951533\n",
            "Epoch:20     step:2360     reward:-0.4     loss:3.5397940570488573\n",
            "Epoch:25     step:2950     reward:0.0     loss:5.279521856736392\n",
            "Epoch:30     step:3540     reward:1.2     loss:4.310726492013782\n",
            "Epoch:35     step:4130     reward:1.2     loss:6.463789849728346\n",
            "Epoch:40     step:4720     reward:0.0     loss:6.825248253252357\n",
            "Epoch:45     step:5310     reward:0.8     loss:5.3317494340706615\n",
            "Epoch:50     step:5900     reward:0.8     loss:4.752085270918906\n",
            "Epoch:55     step:6490     reward:-0.8     loss:4.77190597676672\n",
            "Epoch:60     step:7080     reward:2.6     loss:4.4482532070018355\n",
            "Epoch:65     step:7670     reward:1.2     loss:7.254226598143577\n",
            "Epoch:70     step:8260     reward:2.2     loss:5.348932468425483\n",
            "Epoch:75     step:8850     reward:2.6     loss:8.17777511496097\n",
            "Epoch:80     step:9440     reward:2.4     loss:9.246478958614171\n",
            "Epoch:85     step:10030     reward:-0.4     loss:8.364368555136025\n",
            "Epoch:90     step:10620     reward:2.8     loss:5.554318305570632\n",
            "Epoch:95     step:11210     reward:-1.4     loss:6.612928592879325\n",
            "Epoch:100     step:11800     reward:0.0     loss:21.579732403717934\n",
            "Epoch:105     step:12390     reward:-2.6     loss:9.950783145288005\n",
            "Epoch:110     step:12980     reward:-0.4     loss:5.5190337639767675\n",
            "Epoch:115     step:13570     reward:1.6     loss:8.412391568347811\n",
            "Epoch:120     step:14160     reward:1.2     loss:7.610163050843402\n",
            "Epoch:125     step:14750     reward:-0.2     loss:6.483676907140762\n",
            "Epoch:130     step:15340     reward:1.8     loss:7.276065688021481\n",
            "Epoch:135     step:15930     reward:2.0     loss:7.033767738379538\n",
            "Epoch:140     step:16520     reward:2.0     loss:9.420615728199483\n",
            "Epoch:145     step:17110     reward:3.6     loss:6.824146712757647\n",
            "Epoch:150     step:17700     reward:3.4     loss:7.232779019791633\n"
          ]
        }
      ]
    },
    {
      "cell_type": "code",
      "metadata": {
        "id": "lNoMokj6z8O5"
      },
      "source": [
        "def plot_loss_reward(total_losses, total_rewards):\n",
        "\n",
        "    fig,axes = plt.subplots(nrows=1,ncols=2,figsize = (12,6))\n",
        "    axes[0].plot(total_rewards)\n",
        "    axes[0].set_title('Reward Function')\n",
        "    axes[0].set_ylim([-5, np.max([total_rewards,total_losses])+5])\n",
        "    axes[1].plot(total_losses)\n",
        "    axes[1].set_title('Loss Function')\n",
        "    axes[1].set_ylim([-5, np.max([total_rewards,total_losses])+5])"
      ],
      "execution_count": null,
      "outputs": []
    },
    {
      "cell_type": "code",
      "metadata": {
        "colab": {
          "base_uri": "https://localhost:8080/",
          "height": 390
        },
        "id": "M7uj5CBuRSAo",
        "outputId": "37971c8c-c6d2-4b4a-f63c-5db2f0fff7bf"
      },
      "source": [
        "plot_loss_reward(total_losses, total_rewards)"
      ],
      "execution_count": 40,
      "outputs": [
        {
          "output_type": "display_data",
          "data": {
            "image/png": "[encoded data removed]",
            "text/plain": [
              "<Figure size 864x432 with 2 Axes>"
            ]
          },
          "metadata": {
            "needs_background": "light"
          }
        }
      ]
    },
    {
      "cell_type": "code",
      "metadata": {
        "colab": {
          "base_uri": "https://localhost:8080/"
        },
        "id": "1I1PNTvdMlnO",
        "outputId": "e382f432-3c9d-4fb5-e5d9-a14fe82a0283"
      },
      "source": [
        "from sklearn import metrics\n",
        "q = chainer.as_array(q)\n",
        "print('MAE : ' , metrics.mean_absolute_error(target,q))\n",
        "print('MSE : ' , metrics.mean_squared_error(target,q))\n",
        "print('RMSE : ' , np.sqrt(metrics.mean_squared_error(target,q)))"
      ],
      "execution_count": null,
      "outputs": [
        {
          "name": "stdout",
          "output_type": "stream",
          "text": [
            "MAE :  0.057963036\n",
            "MSE :  0.008819903\n",
            "RMSE :  0.09391434\n"
          ]
        }
      ]
    },
    {
      "cell_type": "code",
      "metadata": {
        "colab": {
          "base_uri": "https://localhost:8080/",
          "height": 370
        },
        "id": "eVXaIDYTdbdG",
        "outputId": "df14b5f5-fbd0-4dea-920e-fbefdc0042a4"
      },
      "source": [
        "sns.distplot((target-q))"
      ],
      "execution_count": null,
      "outputs": [
        {
          "name": "stderr",
          "output_type": "stream",
          "text": [
            "/usr/local/lib/python3.7/dist-packages/seaborn/distributions.py:2557: FutureWarning:\n",
            "\n",
            "`distplot` is a deprecated function and will be removed in a future version. Please adapt your code to use either `displot` (a figure-level function with similar flexibility) or `histplot` (an axes-level function for histograms).\n",
            "\n"
          ]
        },
        {
          "data": {
            "text/plain": [
              "<matplotlib.axes._subplots.AxesSubplot at 0x7fac43093ed0>"
            ]
          },
          "execution_count": 11,
          "metadata": {},
          "output_type": "execute_result"
        },
        {
          "data": {
            "image/png": "[encoded data removed]",
            "text/plain": [
              "<Figure size 432x288 with 1 Axes>"
            ]
          },
          "metadata": {},
          "output_type": "display_data"
        }
      ]
    },
    {
      "cell_type": "markdown",
      "metadata": {
        "id": "f82WmYHZWqXG"
      },
      "source": [
        "Training Using Environment2"
      ]
    },
    {
      "cell_type": "code",
      "metadata": {
        "colab": {
          "base_uri": "https://localhost:8080/"
        },
        "id": "EWXbxDjqWoGf",
        "outputId": "f595d49c-3c50-41ac-d14c-322c8f2288b7"
      },
      "source": [
        "Q, total_losses, total_rewards, target, q = train_dqn(Environment2(train))"
      ],
      "execution_count": 44,
      "outputs": [
        {
          "output_type": "stream",
          "name": "stdout",
          "text": [
            "Epoch:5     step:590     reward:100.2     loss:10.933860293403267\n",
            "Epoch:10     step:1180     reward:109.8     loss:21.873929599672557\n",
            "Epoch:15     step:1770     reward:116.4     loss:34.610686214268206\n",
            "Epoch:20     step:2360     reward:116.4     loss:39.060510942339896\n",
            "Epoch:25     step:2950     reward:114.4     loss:39.71116125434637\n",
            "Epoch:30     step:3540     reward:115.6     loss:38.105012859404084\n",
            "Epoch:35     step:4130     reward:116.2     loss:36.409357541799544\n",
            "Epoch:40     step:4720     reward:116.6     loss:35.6554312825203\n",
            "Epoch:45     step:5310     reward:114.4     loss:34.22651859372854\n",
            "Epoch:50     step:5900     reward:115.6     loss:33.16260814964771\n",
            "Epoch:55     step:6490     reward:115.0     loss:30.9299849614501\n",
            "Epoch:60     step:7080     reward:115.0     loss:29.164472806453706\n",
            "Epoch:65     step:7670     reward:114.8     loss:26.64288858920336\n",
            "Epoch:70     step:8260     reward:115.8     loss:27.039357182383537\n",
            "Epoch:75     step:8850     reward:114.4     loss:26.505123361945152\n",
            "Epoch:80     step:9440     reward:113.8     loss:24.192974373698235\n",
            "Epoch:85     step:10030     reward:116.4     loss:23.0915817566216\n",
            "Epoch:90     step:10620     reward:115.8     loss:21.34942220374942\n",
            "Epoch:95     step:11210     reward:115.0     loss:19.580778311938047\n",
            "Epoch:100     step:11800     reward:115.8     loss:17.681418063491584\n",
            "Epoch:105     step:12390     reward:116.0     loss:16.485612699761987\n",
            "Epoch:110     step:12980     reward:115.8     loss:15.480967408418655\n",
            "Epoch:115     step:13570     reward:116.4     loss:14.205776043236256\n",
            "Epoch:120     step:14160     reward:115.8     loss:12.76619694121182\n",
            "Epoch:125     step:14750     reward:115.6     loss:9.978248247504235\n",
            "Epoch:130     step:15340     reward:116.0     loss:8.25454809591174\n",
            "Epoch:135     step:15930     reward:116.0     loss:6.697684617713094\n",
            "Epoch:140     step:16520     reward:114.8     loss:5.535931458324194\n",
            "Epoch:145     step:17110     reward:114.6     loss:4.049115611799062\n",
            "Epoch:150     step:17700     reward:115.6     loss:2.8584425172768535\n"
          ]
        }
      ]
    },
    {
      "cell_type": "code",
      "metadata": {
        "colab": {
          "base_uri": "https://localhost:8080/",
          "height": 390
        },
        "id": "YTNCj6I1WvoG",
        "outputId": "b1abddba-40d6-461f-f4cd-fa0e1b920ddb"
      },
      "source": [
        "plot_loss_reward(total_losses, total_rewards)"
      ],
      "execution_count": 45,
      "outputs": [
        {
          "output_type": "display_data",
          "data": {
            "image/png": "[encoded data removed]",
            "text/plain": [
              "<Figure size 864x432 with 2 Axes>"
            ]
          },
          "metadata": {
            "needs_background": "light"
          }
        }
      ]
    },
    {
      "cell_type": "code",
      "metadata": {
        "colab": {
          "base_uri": "https://localhost:8080/"
        },
        "id": "be9rMkoMWxve",
        "outputId": "d403db4b-3747-43de-ee26-80343fd40c49"
      },
      "source": [
        "from sklearn import metrics\n",
        "q = chainer.as_array(q)\n",
        "print('MAE : ' , metrics.mean_absolute_error(target,q))\n",
        "print('MSE : ' , metrics.mean_squared_error(target,q))\n",
        "print('RMSE : ' , np.sqrt(metrics.mean_squared_error(target,q)))"
      ],
      "execution_count": 46,
      "outputs": [
        {
          "output_type": "stream",
          "name": "stdout",
          "text": [
            "MAE :  0.076332375\n",
            "MSE :  0.018226696\n",
            "RMSE :  0.13500628\n"
          ]
        }
      ]
    },
    {
      "cell_type": "code",
      "metadata": {
        "colab": {
          "base_uri": "https://localhost:8080/"
        },
        "id": "-yd0aShKmL78",
        "outputId": "d87c8671-cefb-4dc9-813c-509627523452"
      },
      "source": [
        "q"
      ],
      "execution_count": 48,
      "outputs": [
        {
          "output_type": "execute_result",
          "data": {
            "text/plain": [
              "array([[32.706966, 33.75834 ],\n",
              "       [32.16081 , 33.39264 ],\n",
              "       [32.02316 , 33.30047 ],\n",
              "       [32.230747, 33.439465],\n",
              "       [31.785046, 33.141033],\n",
              "       [32.433887, 33.575485],\n",
              "       [32.565437, 33.663567],\n",
              "       [31.785046, 33.141033],\n",
              "       [32.75304 , 33.789177],\n",
              "       [31.940456, 33.245094],\n",
              "       [32.618717, 33.69924 ],\n",
              "       [32.62926 , 33.706303],\n",
              "       [32.608723, 33.692554],\n",
              "       [31.94434 , 33.247696],\n",
              "       [32.171356, 33.399696],\n",
              "       [32.16081 , 33.392635],\n",
              "       [32.073666, 33.33429 ],\n",
              "       [32.240177, 33.445786],\n",
              "       [32.240177, 33.445786],\n",
              "       [31.872742, 33.199753]], dtype=float32)"
            ]
          },
          "metadata": {},
          "execution_count": 48
        }
      ]
    },
    {
      "cell_type": "code",
      "metadata": {
        "id": "6h0-Nf1ei3CH",
        "colab": {
          "base_uri": "https://localhost:8080/"
        },
        "outputId": "59db76a3-3295-4a79-e30b-9e10d5745f62"
      },
      "source": [
        "target"
      ],
      "execution_count": 47,
      "outputs": [
        {
          "output_type": "execute_result",
          "data": {
            "text/plain": [
              "array([[32.719296, 33.75834 ],\n",
              "       [32.379852, 33.39264 ],\n",
              "       [32.02316 , 33.308865],\n",
              "       [32.230747, 33.153194],\n",
              "       [31.785046, 33.405437],\n",
              "       [32.433887, 33.502007],\n",
              "       [32.565437, 33.794243],\n",
              "       [31.785046, 33.405437],\n",
              "       [32.75304 , 33.69479 ],\n",
              "       [31.940456, 33.19968 ],\n",
              "       [32.618717, 33.66993 ],\n",
              "       [32.62926 , 33.410843],\n",
              "       [32.608723, 33.6375  ],\n",
              "       [31.94434 , 33.632816],\n",
              "       [32.171356, 33.403996],\n",
              "       [32.16081 , 33.347065],\n",
              "       [32.073666, 33.50561 ],\n",
              "       [32.240177, 33.25409 ],\n",
              "       [32.240177, 33.25409 ],\n",
              "       [31.872742, 33.484715]], dtype=float32)"
            ]
          },
          "metadata": {},
          "execution_count": 47
        }
      ]
    },
    {
      "cell_type": "code",
      "metadata": {
        "colab": {
          "base_uri": "https://localhost:8080/",
          "height": 370
        },
        "id": "ksxYyE9vW0O-",
        "outputId": "b9e13358-de9b-4909-8fcc-c6c34f55d86c"
      },
      "source": [
        "sns.distplot((target-q))"
      ],
      "execution_count": 49,
      "outputs": [
        {
          "output_type": "stream",
          "name": "stderr",
          "text": [
            "/usr/local/lib/python3.7/dist-packages/seaborn/distributions.py:2619: FutureWarning:\n",
            "\n",
            "`distplot` is a deprecated function and will be removed in a future version. Please adapt your code to use either `displot` (a figure-level function with similar flexibility) or `histplot` (an axes-level function for histograms).\n",
            "\n"
          ]
        },
        {
          "output_type": "execute_result",
          "data": {
            "text/plain": [
              "<matplotlib.axes._subplots.AxesSubplot at 0x7f9f2416eb90>"
            ]
          },
          "metadata": {},
          "execution_count": 49
        },
        {
          "output_type": "display_data",
          "data": {
            "image/png": "[encoded data removed]",
            "text/plain": [
              "<Figure size 432x288 with 1 Axes>"
            ]
          },
          "metadata": {
            "needs_background": "light"
          }
        }
      ]
    },
    {
      "cell_type": "code",
      "metadata": {
        "colab": {
          "base_uri": "https://localhost:8080/"
        },
        "id": "j820ItGnoLMZ",
        "outputId": "d7437ea6-8ec0-447b-cb45-cf60a030188c"
      },
      "source": [
        "class Environment:\n",
        "    \n",
        "    def __init__(self, data, history_t=90):\n",
        "        self.data = data\n",
        "        self.history_t = history_t\n",
        "        self.reset()\n",
        "        \n",
        "    def reset(self):\n",
        "        self.t = 0\n",
        "        self.done = False\n",
        "        self.profits = 0\n",
        "        self.positions = []\n",
        "        self.position_value = 0\n",
        "        self.history = [0 for _ in range(self.history_t)]\n",
        "        return [self.position_value] + self.history # obs\n",
        "    \n",
        "    def step(self, act):\n",
        "        reward = 0\n",
        "        \n",
        "        # act = 0: stay, 1: buy, 2: sell\n",
        "        if act == 1:\n",
        "            self.positions.append(self.data.iloc[self.t, :]['Capacity'])\n",
        "        elif act == 2: # sell\n",
        "            if len(self.positions) == 0:\n",
        "                reward = -1\n",
        "            else:\n",
        "                profits = 0\n",
        "                for p in self.positions:\n",
        "                    profits += (self.data.iloc[self.t, :]['Capacity'] - p)\n",
        "                reward += profits\n",
        "                self.profits += profits\n",
        "                self.positions = []\n",
        "        \n",
        "        # set next time\n",
        "        self.t += 1\n",
        "        self.position_value = 0\n",
        "        for p in self.positions:\n",
        "            self.position_value += (self.data.iloc[self.t, :]['Capacity'] - p)\n",
        "        self.history.pop(0)\n",
        "        self.history.append(self.data.iloc[self.t, :]['Capacity'] - self.data.iloc[(self.t-1), :]['Capacity'])\n",
        "        \n",
        "        # clipping reward\n",
        "        if reward > 0:\n",
        "            reward = 1\n",
        "        elif reward < 0:\n",
        "            reward = -1\n",
        "        \n",
        "        return [self.position_value] + self.history, reward, self.done # obs, reward, done\n",
        "env = Environment1(train)\n",
        "print(env.reset())\n",
        "for _ in range(3):\n",
        "    pact = np.random.randint(3)\n",
        "    print(env.step(pact))"
      ],
      "execution_count": 55,
      "outputs": [
        {
          "output_type": "stream",
          "name": "stdout",
          "text": [
            "[0, 0, 0, 0, 0, 0, 0, 0, 0, 0, 0]\n",
            "([0, 0, 0, 0, 0, 0, 0, 0, 0, 0, -0.0033000000000000806], 0, False)\n",
            "([0, 0, 0, 0, 0, 0, 0, 0, 0, -0.0033000000000000806, -0.0024999999999999467], 0, False)\n",
            "([-0.0020999999999999908, 0, 0, 0, 0, 0, 0, 0, -0.0033000000000000806, -0.0024999999999999467, -0.0020999999999999908], 0, False)\n"
          ]
        }
      ]
    },
    {
      "cell_type": "code",
      "metadata": {
        "id": "Ydwfh2VroYyF"
      },
      "source": [
        "# DQN\n",
        "\n",
        "def train_dqn(env):\n",
        "\n",
        "    class Q_Network(chainer.Chain):\n",
        "\n",
        "        def __init__(self, input_size, hidden_size, output_size):\n",
        "            super(Q_Network, self).__init__(\n",
        "                fc1 = L.Linear(input_size, hidden_size),\n",
        "                fc2 = L.Linear(hidden_size, hidden_size),\n",
        "                fc3 = L.Linear(hidden_size, output_size)\n",
        "            )\n",
        "\n",
        "        def __call__(self, x):\n",
        "            h = F.relu(self.fc1(x))\n",
        "            h = F.relu(self.fc2(h))\n",
        "            y = self.fc3(h)\n",
        "            return y\n",
        "\n",
        "        def reset(self):\n",
        "            self.zerograds()\n",
        "\n",
        "    Q = Q_Network(input_size=env.history_t+1, hidden_size=100, output_size=3)\n",
        "    Q_ast = copy.deepcopy(Q)\n",
        "    optimizer = chainer.optimizers.Adam()\n",
        "    optimizer.setup(Q)\n",
        "\n",
        "    epoch_num = 50\n",
        "    step_max = len(env.data)-1\n",
        "    memory_size = 200\n",
        "    batch_size = 20\n",
        "    epsilon = 1.0\n",
        "    epsilon_decrease = 1e-3\n",
        "    epsilon_min = 0.1\n",
        "    start_reduce_epsilon = 200\n",
        "    train_freq = 10\n",
        "    update_q_freq = 20\n",
        "    gamma = 0.97\n",
        "    show_log_freq = 5\n",
        "\n",
        "    memory = []\n",
        "    total_step = 0\n",
        "    total_rewards = []\n",
        "    total_losses = []\n",
        "\n",
        "    start = time.time()\n",
        "    for epoch in range(epoch_num):\n",
        "\n",
        "        pobs = env.reset()\n",
        "        step = 0\n",
        "        done = False\n",
        "        total_reward = 0\n",
        "        total_loss = 0\n",
        "\n",
        "        while not done and step < step_max:\n",
        "\n",
        "            # select act\n",
        "            pact = np.random.randint(3)\n",
        "            if np.random.rand() > epsilon:\n",
        "                pact = Q(np.array(pobs, dtype=np.float32).reshape(1, -1))\n",
        "                pact = np.argmax(pact.data)\n",
        "\n",
        "            # act\n",
        "            obs, reward, done = env.step(pact)\n",
        "\n",
        "            # add memory\n",
        "            memory.append((pobs, pact, reward, obs, done))\n",
        "            if len(memory) > memory_size:\n",
        "                memory.pop(0)\n",
        "\n",
        "            # train or update q\n",
        "            if len(memory) == memory_size:\n",
        "                if total_step % train_freq == 0:\n",
        "                    shuffled_memory = np.random.permutation(memory)\n",
        "                    memory_idx = range(len(shuffled_memory))\n",
        "                    for i in memory_idx[::batch_size]:\n",
        "                        batch = np.array(shuffled_memory[i:i+batch_size])\n",
        "                        b_pobs = np.array(batch[:, 0].tolist(), dtype=np.float32).reshape(batch_size, -1)\n",
        "                        b_pact = np.array(batch[:, 1].tolist(), dtype=np.int32)\n",
        "                        b_reward = np.array(batch[:, 2].tolist(), dtype=np.int32)\n",
        "                        b_obs = np.array(batch[:, 3].tolist(), dtype=np.float32).reshape(batch_size, -1)\n",
        "                        b_done = np.array(batch[:, 4].tolist(), dtype=np.bool)\n",
        "\n",
        "                        q = Q(b_pobs)\n",
        "                        maxq = np.max(Q_ast(b_obs).data, axis=1)\n",
        "                        target = copy.deepcopy(q.data)\n",
        "                        for j in range(batch_size):\n",
        "                            target[j, b_pact[j]] = b_reward[j]+gamma*maxq[j]*(not b_done[j])\n",
        "                        Q.reset()\n",
        "                        loss = F.mean_squared_error(q, target)\n",
        "                        total_loss += loss.data\n",
        "                        loss.backward()\n",
        "                        optimizer.update()\n",
        "\n",
        "                if total_step % update_q_freq == 0:\n",
        "                    Q_ast = copy.deepcopy(Q)\n",
        "\n",
        "            # epsilon\n",
        "            if epsilon > epsilon_min and total_step > start_reduce_epsilon:\n",
        "                epsilon -= epsilon_decrease\n",
        "\n",
        "            # next step\n",
        "            total_reward += reward\n",
        "            pobs = obs\n",
        "            step += 1\n",
        "            total_step += 1\n",
        "\n",
        "        total_rewards.append(total_reward)\n",
        "        total_losses.append(total_loss)\n",
        "\n",
        "        if (epoch+1) % show_log_freq == 0:\n",
        "            log_reward = sum(total_rewards[((epoch+1)-show_log_freq):])/show_log_freq\n",
        "            log_loss = sum(total_losses[((epoch+1)-show_log_freq):])/show_log_freq\n",
        "            elapsed_time = time.time()-start\n",
        "            #print('\\t'.join(map(str, [epoch+1, epsilon, total_step, log_reward, log_loss, elapsed_time])))\n",
        "            print('Epoch:{}     step:{}     reward:{}     loss:{}'.format(epoch+1,total_step,log_reward,log_loss))\n",
        "            start = time.time()\n",
        "            \n",
        "    return Q, total_losses, total_rewards, q, target"
      ],
      "execution_count": 56,
      "outputs": []
    },
    {
      "cell_type": "code",
      "metadata": {
        "colab": {
          "base_uri": "https://localhost:8080/"
        },
        "id": "PzE-eTw7oazF",
        "outputId": "46aee7dc-f7a7-4ba1-b058-f58269a3046d"
      },
      "source": [
        "Q, total_losses, total_rewards, q, target = train_dqn(Environment(train))"
      ],
      "execution_count": 62,
      "outputs": [
        {
          "output_type": "stream",
          "name": "stderr",
          "text": [
            "/usr/local/lib/python3.7/dist-packages/numpy/core/_asarray.py:83: VisibleDeprecationWarning:\n",
            "\n",
            "Creating an ndarray from ragged nested sequences (which is a list-or-tuple of lists-or-tuples-or ndarrays with different lengths or shapes) is deprecated. If you meant to do this, you must specify 'dtype=object' when creating the ndarray\n",
            "\n"
          ]
        },
        {
          "output_type": "stream",
          "name": "stdout",
          "text": [
            "Epoch:5     step:590     reward:-25.0     loss:2.527540372960266\n",
            "Epoch:10     step:1180     reward:-8.6     loss:0.6708818232507838\n",
            "Epoch:15     step:1770     reward:-3.4     loss:0.4626120684137277\n",
            "Epoch:20     step:2360     reward:-0.4     loss:0.542225997929927\n",
            "Epoch:25     step:2950     reward:-0.4     loss:0.5885289530735462\n",
            "Epoch:30     step:3540     reward:0.4     loss:0.6451941282488406\n",
            "Epoch:35     step:4130     reward:-1.6     loss:0.899194591655396\n",
            "Epoch:40     step:4720     reward:-2.6     loss:0.8555329843075015\n",
            "Epoch:45     step:5310     reward:-1.8     loss:0.4742641825170722\n",
            "Epoch:50     step:5900     reward:-0.2     loss:0.2961501326499274\n"
          ]
        }
      ]
    },
    {
      "cell_type": "code",
      "metadata": {
        "colab": {
          "base_uri": "https://localhost:8080/",
          "height": 390
        },
        "id": "Jzrx6cATofbk",
        "outputId": "d0e98e0e-d206-4962-f268-566386ce5777"
      },
      "source": [
        "plot_loss_reward(total_losses, total_rewards)"
      ],
      "execution_count": 63,
      "outputs": [
        {
          "output_type": "display_data",
          "data": {
            "image/png": "[encoded data removed]",
            "text/plain": [
              "<Figure size 864x432 with 2 Axes>"
            ]
          },
          "metadata": {
            "needs_background": "light"
          }
        }
      ]
    },
    {
      "cell_type": "code",
      "metadata": {
        "id": "zp1OHlDamawR"
      },
      "source": [
        "def plot_train_test_by_q(train_env, test_env, Q, algorithm_name):\n",
        "    \n",
        "    # train\n",
        "    pobs = train_env.reset()\n",
        "    train_acts = []\n",
        "    train_rewards = []\n",
        "\n",
        "    for _ in range(len(train_env.data)-1):\n",
        "        \n",
        "        pact = Q(np.array(pobs, dtype=np.float32).reshape(1, -1))\n",
        "        pact = np.argmax(pact.data)\n",
        "        train_acts.append(pact)\n",
        "            \n",
        "        obs, reward, done = train_env.step(pact)\n",
        "        train_rewards.append(reward)\n",
        "\n",
        "        pobs = obs\n",
        "        \n",
        "    train_profits = train_env.profits\n",
        "    \n",
        "    # test\n",
        "    pobs = test_env.reset()\n",
        "    test_acts = []\n",
        "    test_rewards = []\n",
        "\n",
        "    for _ in range(len(test_env.data)-1):\n",
        "    \n",
        "        pact = Q(np.array(pobs, dtype=np.float32).reshape(1, -1))\n",
        "        pact = np.argmax(pact.data)\n",
        "        test_acts.append(pact)\n",
        "            \n",
        "        obs, reward, done = test_env.step(pact)\n",
        "        test_rewards.append(reward)\n",
        "\n",
        "        pobs = obs\n",
        "        \n",
        "    test_profits = test_env.profits\n",
        "    \n",
        "    # plot\n",
        "    train_copy = train_env.data.copy()\n",
        "    test_copy = test_env.data.copy()\n",
        "    train_copy['act'] = train_acts + [np.nan]\n",
        "    train_copy['reward'] = train_rewards + [np.nan]\n",
        "    test_copy['act'] = test_acts + [np.nan]\n",
        "    test_copy['reward'] = test_rewards + [np.nan]\n",
        "    train0 = train_copy[train_copy['act'] == 0]\n",
        "    train1 = train_copy[train_copy['act'] == 1]\n",
        "    #train2 = train_copy[train_copy['act'] == 2]\n",
        "    test0 = test_copy[test_copy['act'] == 0]\n",
        "    test1 = test_copy[test_copy['act'] == 1]\n",
        "    #test2 = test_copy[test_copy['act'] == 2]\n",
        "    act_color0, act_color1, act_color2 = 'gray', 'cyan', 'magenta'\n",
        "\n",
        "    data = [\n",
        "        Candlestick(x=train0.index,  capacity=train0['Capacity'], increasing=dict(line=dict(color=act_color0)), decreasing=dict(line=dict(color=act_color0))),\n",
        "        Candlestick(x=train1.index,  capacity=train1['Capacity'], increasing=dict(line=dict(color=act_color1)), decreasing=dict(line=dict(color=act_color1))),\n",
        "        Candlestick(x=train2.index,  capacity=train2['Capacity'], increasing=dict(line=dict(color=act_color2)), decreasing=dict(line=dict(color=act_color2))),\n",
        "        Candlestick(x=test0.index,   capacity=test0['Capacity'], increasing=dict(line=dict(color=act_color0)), decreasing=dict(line=dict(color=act_color0))),\n",
        "        Candlestick(x=test1.index,   capacity=test1['Capacity'], increasing=dict(line=dict(color=act_color1)), decreasing=dict(line=dict(color=act_color1))),\n",
        "        Candlestick(x=test2.index,   capacity=test2['Capacity'], increasing=dict(line=dict(color=act_color2)), decreasing=dict(line=dict(color=act_color2)))\n",
        "    ]\n",
        "    title = '{}: train s-reward {}, profits {}, test s-reward {}, profits {}'.format(\n",
        "        algorithm_name,\n",
        "        int(sum(train_rewards)),\n",
        "        int(train_profits),\n",
        "        int(sum(test_rewards)),\n",
        "        int(test_profits)\n",
        "    )\n",
        "    layout = {\n",
        "        'title': title,\n",
        "        'showlegend': False,\n",
        "         'shapes': [\n",
        "             {'x0': date_split, 'x1': date_split, 'y0': 0, 'y1': 1, 'xref': 'x', 'yref': 'paper', 'line': {'color': 'rgb(0,0,0)', 'width': 1}}\n",
        "         ],\n",
        "        'annotations': [\n",
        "            {'x': date_split, 'y': 1.0, 'xref': 'x', 'yref': 'paper', 'showarrow': False, 'xanchor': 'left', 'text': ' test data'},\n",
        "            {'x': date_split, 'y': 1.0, 'xref': 'x', 'yref': 'paper', 'showarrow': False, 'xanchor': 'right', 'text': 'train data '}\n",
        "        ]\n",
        "    }\n",
        "    figure = Figure(data=data, layout=layout)\n",
        "    #iplot(figure)"
      ],
      "execution_count": 66,
      "outputs": []
    },
    {
      "cell_type": "code",
      "metadata": {
        "id": "ZlLBBkfnpyak"
      },
      "source": [
        "train_env, test_env, Q, algorithm_name = Environment(train), Environment(test), Q, 'DQN'"
      ],
      "execution_count": 70,
      "outputs": []
    },
    {
      "cell_type": "code",
      "metadata": {
        "id": "rv68rl_lqZ4s"
      },
      "source": [
        "# train\n",
        "pobs = train_env.reset()\n",
        "train_acts = []\n",
        "train_rewards = []\n",
        "\n",
        "for _ in range(len(train_env.data)-1):\n",
        "        \n",
        "        pact = Q(np.array(pobs, dtype=np.float32).reshape(1, -1))\n",
        "        pact = np.argmax(pact.data)\n",
        "        train_acts.append(pact)\n",
        "            \n",
        "        obs, reward, done = train_env.step(pact)\n",
        "        train_rewards.append(reward)\n",
        "\n",
        "        pobs = obs\n",
        "        \n",
        "train_profits = train_env.profits\n",
        "    \n",
        "# test\n",
        "pobs = test_env.reset()\n",
        "test_acts = []\n",
        "test_rewards = []"
      ],
      "execution_count": 72,
      "outputs": []
    },
    {
      "cell_type": "code",
      "metadata": {
        "id": "qZhfFQ0gqsSk"
      },
      "source": [
        "for _ in range(len(test_env.data)-1):\n",
        "    \n",
        "        pact = Q(np.array(pobs, dtype=np.float32).reshape(1, -1))\n",
        "        pact = np.argmax(pact.data)\n",
        "        test_acts.append(pact)\n",
        "            \n",
        "        obs, reward, done = test_env.step(pact)\n",
        "        test_rewards.append(reward)\n",
        "\n",
        "        pobs = obs\n",
        "        \n",
        "test_profits = test_env.profits\n",
        "    \n",
        "# plot\n",
        "train_copy = train_env.data.copy()\n",
        "test_copy = test_env.data.copy()\n",
        "train_copy['act'] = train_acts + [np.nan]\n",
        "train_copy['reward'] = train_rewards + [np.nan]\n",
        "test_copy['act'] = test_acts + [np.nan]\n",
        "test_copy['reward'] = test_rewards + [np.nan]\n",
        "train0 = train_copy[train_copy['act'] == 0]\n",
        "train1 = train_copy[train_copy['act'] == 1]\n",
        "#train2 = train_copy[train_copy['act'] == 2]\n",
        "test0 = test_copy[test_copy['act'] == 0]\n",
        "test1 = test_copy[test_copy['act'] == 1]\n",
        "#test2 = test_copy[test_copy['act'] == 2]\n",
        "act_color0, act_color1, act_color2 = 'gray', 'cyan', 'magenta'"
      ],
      "execution_count": 73,
      "outputs": []
    },
    {
      "cell_type": "code",
      "metadata": {
        "colab": {
          "base_uri": "https://localhost:8080/",
          "height": 351
        },
        "id": "y16lopPQwa8-",
        "outputId": "d72e65fe-e4a2-439d-929b-f40d14236e06"
      },
      "source": [
        "Candlestick(train0)"
      ],
      "execution_count": 82,
      "outputs": [
        {
          "output_type": "error",
          "ename": "ValueError",
          "evalue": "ignored",
          "traceback": [
            "\u001b[0;31m---------------------------------------------------------------------------\u001b[0m",
            "\u001b[0;31mValueError\u001b[0m                                Traceback (most recent call last)",
            "\u001b[0;32m<ipython-input-82-b8de4ef21c8d>\u001b[0m in \u001b[0;36m<module>\u001b[0;34m()\u001b[0m\n\u001b[0;32m----> 1\u001b[0;31m \u001b[0mCandlestick\u001b[0m\u001b[0;34m(\u001b[0m\u001b[0mtrain0\u001b[0m\u001b[0;34m)\u001b[0m\u001b[0;34m\u001b[0m\u001b[0;34m\u001b[0m\u001b[0m\n\u001b[0m",
            "\u001b[0;32m/usr/local/lib/python3.7/dist-packages/plotly/graph_objs/__init__.py\u001b[0m in \u001b[0;36m__init__\u001b[0;34m(self, arg, close, closesrc, customdata, customdatasrc, decreasing, high, highsrc, hoverinfo, hoverinfosrc, hoverlabel, hovertext, hovertextsrc, ids, idssrc, increasing, legendgroup, line, low, lowsrc, meta, metasrc, name, opacity, open, opensrc, selectedpoints, showlegend, stream, text, textsrc, uid, uirevision, visible, whiskerwidth, x, xaxis, xcalendar, xsrc, yaxis, **kwargs)\u001b[0m\n\u001b[1;32m  84523\u001b[0m \u001b[0mThe\u001b[0m \u001b[0mfirst\u001b[0m \u001b[0margument\u001b[0m \u001b[0mto\u001b[0m \u001b[0mthe\u001b[0m \u001b[0mplotly\u001b[0m\u001b[0;34m.\u001b[0m\u001b[0mgraph_objs\u001b[0m\u001b[0;34m.\u001b[0m\u001b[0mCandlestick\u001b[0m\u001b[0;34m\u001b[0m\u001b[0;34m\u001b[0m\u001b[0m\n\u001b[1;32m  84524\u001b[0m \u001b[0mconstructor\u001b[0m \u001b[0mmust\u001b[0m \u001b[0mbe\u001b[0m \u001b[0ma\u001b[0m \u001b[0mdict\u001b[0m \u001b[0;32mor\u001b[0m\u001b[0;34m\u001b[0m\u001b[0;34m\u001b[0m\u001b[0m\n\u001b[0;32m> 84525\u001b[0;31m an instance of plotly.graph_objs.Candlestick\"\"\"\n\u001b[0m\u001b[1;32m  84526\u001b[0m             )\n\u001b[1;32m  84527\u001b[0m \u001b[0;34m\u001b[0m\u001b[0m\n",
            "\u001b[0;31mValueError\u001b[0m: The first argument to the plotly.graph_objs.Candlestick \nconstructor must be a dict or \nan instance of plotly.graph_objs.Candlestick"
          ]
        }
      ]
    },
    {
      "cell_type": "code",
      "metadata": {
        "id": "USe-Y8CEq3dt"
      },
      "source": [
        "data = [\n",
        "        Candlestick(x=train0.index,  capacity=train0['Capacity'], increasing=dict(line=dict(color=act_color0)), decreasing=dict(line=dict(color=act_color0))),\n",
        "        Candlestick(x=train1.index,  capacity=train1['Capacity'], increasing=dict(line=dict(color=act_color1)), decreasing=dict(line=dict(color=act_color1))),\n",
        "        Candlestick(x=train2.index,  capacity=train2['Capacity'], increasing=dict(line=dict(color=act_color2)), decreasing=dict(line=dict(color=act_color2))),\n",
        "        Candlestick(x=test0.index,   capacity=test0['Capacity'], increasing=dict(line=dict(color=act_color0)), decreasing=dict(line=dict(color=act_color0))),\n",
        "        Candlestick(x=test1.index,   capacity=test1['Capacity'], increasing=dict(line=dict(color=act_color1)), decreasing=dict(line=dict(color=act_color1))),\n",
        "        Candlestick(x=test2.index,   capacity=test2['Capacity'], increasing=dict(line=dict(color=act_color2)), decreasing=dict(line=dict(color=act_color2)))\n",
        "    ]"
      ],
      "execution_count": null,
      "outputs": []
    },
    {
      "cell_type": "code",
      "metadata": {
        "id": "dLBlR2rpnVzq"
      },
      "source": [
        "plot_train_test_by_q(Environment(train), Environment(test), Q, 'DQN')"
      ],
      "execution_count": null,
      "outputs": []
    },
    {
      "cell_type": "code",
      "metadata": {
        "colab": {
          "base_uri": "https://localhost:8080/"
        },
        "id": "W98vsJtp0sPG",
        "outputId": "5ebbb68d-d5a9-4e9a-e522-817ec3c0ed35"
      },
      "source": [
        "df['Capacity']"
      ],
      "execution_count": 94,
      "outputs": [
        {
          "output_type": "execute_result",
          "data": {
            "text/plain": [
              "0      1.4393\n",
              "1      1.4360\n",
              "2      1.4335\n",
              "3      1.4314\n",
              "4      1.4282\n",
              "        ...  \n",
              "128    1.2399\n",
              "129    1.2355\n",
              "130    1.2303\n",
              "131    1.2284\n",
              "132    1.2263\n",
              "Name: Capacity, Length: 133, dtype: float64"
            ]
          },
          "metadata": {},
          "execution_count": 94
        }
      ]
    },
    {
      "cell_type": "code",
      "metadata": {
        "id": "JcLU8SRu0uGF"
      },
      "source": [
        ""
      ],
      "execution_count": null,
      "outputs": []
    }
  ]
}